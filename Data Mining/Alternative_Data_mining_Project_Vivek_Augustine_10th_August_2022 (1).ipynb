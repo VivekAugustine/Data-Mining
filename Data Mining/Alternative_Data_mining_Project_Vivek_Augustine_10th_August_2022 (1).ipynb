{
 "cells": [
  {
   "cell_type": "markdown",
   "id": "904baacb",
   "metadata": {},
   "source": [
    "## Problem 1: Clustering\n",
    "The dataset given is about the Health and economic conditions in different States of a country. The Group States based on how similar their situation is, so as to provide these groups to the government so that appropriate measures can be taken to escalate their Health and Economic conditions.\n",
    "\n",
    "#### Dataset for Problem 1: State_wise_Health_income.csv\n",
    "\n",
    "### Data Dictionary for State_wise_Health_income:\n",
    "1. States: names of States\n",
    "2. Health_indeces1: A composite index rolls several related measures (indicators) into\n",
    "a single score that provides a summary of how the health system is performing in the\n",
    "State.\n",
    "3. Health_indeces2: A composite index rolls several related measures (indicators) into a\n",
    "single score that provides a summary of how the health system is performing in\n",
    "certain areas of the States.\n",
    "4. Per_capita_income-Per capita income (PCI) measures the average income earned per\n",
    "person in a given area (city, region, country, etc.) in a specified year. It is calculated by\n",
    "dividing the area's total income by its total population.\n",
    "5. GDP: GDP provides an economic snapshot of a country/state, used to estimate the\n",
    "size of an economy and growth rate.\n",
    "\n"
   ]
  },
  {
   "cell_type": "code",
   "execution_count": 1,
   "id": "7b560d26",
   "metadata": {},
   "outputs": [],
   "source": [
    "from matplotlib import pyplot as plt\n",
    "import numpy as np\n",
    "import pandas as pd\n",
    "import seaborn as sns\n",
    "%matplotlib inline\n",
    "from sklearn.preprocessing import StandardScaler\n",
    "from scipy.cluster.hierarchy import dendrogram, linkage\n",
    "from scipy.cluster.hierarchy import fcluster\n",
    "from sklearn.cluster import KMeans \n",
    "import warnings\n",
    "warnings.filterwarnings(\"ignore\")\n",
    "from sklearn.metrics import silhouette_samples, silhouette_score\n",
    "from sklearn import metrics\n",
    "from sklearn.model_selection import train_test_split\n",
    "from sklearn.tree import DecisionTreeClassifier\n",
    "from sklearn.ensemble import RandomForestClassifier\n",
    "from sklearn.neural_network import MLPClassifier\n",
    "from sklearn.model_selection import GridSearchCV\n",
    "from sklearn import tree\n",
    "from sklearn.metrics import classification_report\n",
    "from sklearn.metrics import roc_auc_score,roc_curve,classification_report,confusion_matrix"
   ]
  },
  {
   "cell_type": "markdown",
   "id": "dd59118f",
   "metadata": {},
   "source": [
    "## 1.1. Read the data and do exploratory data analysis. Describe the data briefly. (Check the null values, Data types, shape, EDA, etc, etc)"
   ]
  },
  {
   "cell_type": "code",
   "execution_count": 2,
   "id": "9b4ee1ba",
   "metadata": {},
   "outputs": [
    {
     "data": {
      "text/html": [
       "<div>\n",
       "<style scoped>\n",
       "    .dataframe tbody tr th:only-of-type {\n",
       "        vertical-align: middle;\n",
       "    }\n",
       "\n",
       "    .dataframe tbody tr th {\n",
       "        vertical-align: top;\n",
       "    }\n",
       "\n",
       "    .dataframe thead th {\n",
       "        text-align: right;\n",
       "    }\n",
       "</style>\n",
       "<table border=\"1\" class=\"dataframe\">\n",
       "  <thead>\n",
       "    <tr style=\"text-align: right;\">\n",
       "      <th></th>\n",
       "      <th>Unnamed: 0</th>\n",
       "      <th>States</th>\n",
       "      <th>Health_indeces1</th>\n",
       "      <th>Health_indices2</th>\n",
       "      <th>Per_capita_income</th>\n",
       "      <th>GDP</th>\n",
       "    </tr>\n",
       "  </thead>\n",
       "  <tbody>\n",
       "    <tr>\n",
       "      <th>0</th>\n",
       "      <td>0</td>\n",
       "      <td>Bachevo</td>\n",
       "      <td>417</td>\n",
       "      <td>66</td>\n",
       "      <td>564</td>\n",
       "      <td>1823</td>\n",
       "    </tr>\n",
       "    <tr>\n",
       "      <th>1</th>\n",
       "      <td>1</td>\n",
       "      <td>Balgarchevo</td>\n",
       "      <td>1485</td>\n",
       "      <td>646</td>\n",
       "      <td>2710</td>\n",
       "      <td>73662</td>\n",
       "    </tr>\n",
       "    <tr>\n",
       "      <th>2</th>\n",
       "      <td>2</td>\n",
       "      <td>Belasitsa</td>\n",
       "      <td>654</td>\n",
       "      <td>299</td>\n",
       "      <td>1104</td>\n",
       "      <td>27318</td>\n",
       "    </tr>\n",
       "    <tr>\n",
       "      <th>3</th>\n",
       "      <td>3</td>\n",
       "      <td>Belo_Pole</td>\n",
       "      <td>192</td>\n",
       "      <td>25</td>\n",
       "      <td>573</td>\n",
       "      <td>250</td>\n",
       "    </tr>\n",
       "    <tr>\n",
       "      <th>4</th>\n",
       "      <td>4</td>\n",
       "      <td>Beslen</td>\n",
       "      <td>43</td>\n",
       "      <td>8</td>\n",
       "      <td>528</td>\n",
       "      <td>22</td>\n",
       "    </tr>\n",
       "  </tbody>\n",
       "</table>\n",
       "</div>"
      ],
      "text/plain": [
       "   Unnamed: 0       States  Health_indeces1  Health_indices2  \\\n",
       "0           0      Bachevo              417               66   \n",
       "1           1  Balgarchevo             1485              646   \n",
       "2           2    Belasitsa              654              299   \n",
       "3           3    Belo_Pole              192               25   \n",
       "4           4       Beslen               43                8   \n",
       "\n",
       "   Per_capita_income    GDP  \n",
       "0                564   1823  \n",
       "1               2710  73662  \n",
       "2               1104  27318  \n",
       "3                573    250  \n",
       "4                528     22  "
      ]
     },
     "execution_count": 2,
     "metadata": {},
     "output_type": "execute_result"
    }
   ],
   "source": [
    "df = pd.read_csv('Downloads/State_wise_Health_income-1 (2).csv')\n",
    "df.head()"
   ]
  },
  {
   "cell_type": "code",
   "execution_count": 3,
   "id": "73b7d2dc",
   "metadata": {},
   "outputs": [
    {
     "name": "stdout",
     "output_type": "stream",
     "text": [
      "<class 'pandas.core.frame.DataFrame'>\n",
      "RangeIndex: 297 entries, 0 to 296\n",
      "Data columns (total 6 columns):\n",
      " #   Column             Non-Null Count  Dtype \n",
      "---  ------             --------------  ----- \n",
      " 0   Unnamed: 0         297 non-null    int64 \n",
      " 1   States             297 non-null    object\n",
      " 2   Health_indeces1    297 non-null    int64 \n",
      " 3   Health_indices2    297 non-null    int64 \n",
      " 4   Per_capita_income  297 non-null    int64 \n",
      " 5   GDP                297 non-null    int64 \n",
      "dtypes: int64(5), object(1)\n",
      "memory usage: 14.0+ KB\n"
     ]
    }
   ],
   "source": [
    "df.info()"
   ]
  },
  {
   "cell_type": "code",
   "execution_count": 4,
   "id": "c3ce10ee",
   "metadata": {},
   "outputs": [
    {
     "data": {
      "text/plain": [
       "(297, 6)"
      ]
     },
     "execution_count": 4,
     "metadata": {},
     "output_type": "execute_result"
    }
   ],
   "source": [
    "df.shape"
   ]
  },
  {
   "cell_type": "code",
   "execution_count": 5,
   "id": "0a6ff6a9",
   "metadata": {},
   "outputs": [
    {
     "data": {
      "text/plain": [
       "Unnamed: 0           0\n",
       "States               0\n",
       "Health_indeces1      0\n",
       "Health_indices2      0\n",
       "Per_capita_income    0\n",
       "GDP                  0\n",
       "dtype: int64"
      ]
     },
     "execution_count": 5,
     "metadata": {},
     "output_type": "execute_result"
    }
   ],
   "source": [
    "df.isnull().sum()"
   ]
  },
  {
   "cell_type": "code",
   "execution_count": 6,
   "id": "21fa12c2",
   "metadata": {},
   "outputs": [
    {
     "data": {
      "text/plain": [
       "0"
      ]
     },
     "execution_count": 6,
     "metadata": {},
     "output_type": "execute_result"
    }
   ],
   "source": [
    "df.duplicated().sum()"
   ]
  },
  {
   "cell_type": "code",
   "execution_count": 7,
   "id": "183f27ae",
   "metadata": {},
   "outputs": [
    {
     "data": {
      "text/html": [
       "<div>\n",
       "<style scoped>\n",
       "    .dataframe tbody tr th:only-of-type {\n",
       "        vertical-align: middle;\n",
       "    }\n",
       "\n",
       "    .dataframe tbody tr th {\n",
       "        vertical-align: top;\n",
       "    }\n",
       "\n",
       "    .dataframe thead th {\n",
       "        text-align: right;\n",
       "    }\n",
       "</style>\n",
       "<table border=\"1\" class=\"dataframe\">\n",
       "  <thead>\n",
       "    <tr style=\"text-align: right;\">\n",
       "      <th></th>\n",
       "      <th>States</th>\n",
       "      <th>Health_indeces1</th>\n",
       "      <th>Health_indices2</th>\n",
       "      <th>Per_capita_income</th>\n",
       "      <th>GDP</th>\n",
       "    </tr>\n",
       "  </thead>\n",
       "  <tbody>\n",
       "    <tr>\n",
       "      <th>0</th>\n",
       "      <td>Bachevo</td>\n",
       "      <td>417</td>\n",
       "      <td>66</td>\n",
       "      <td>564</td>\n",
       "      <td>1823</td>\n",
       "    </tr>\n",
       "    <tr>\n",
       "      <th>1</th>\n",
       "      <td>Balgarchevo</td>\n",
       "      <td>1485</td>\n",
       "      <td>646</td>\n",
       "      <td>2710</td>\n",
       "      <td>73662</td>\n",
       "    </tr>\n",
       "    <tr>\n",
       "      <th>2</th>\n",
       "      <td>Belasitsa</td>\n",
       "      <td>654</td>\n",
       "      <td>299</td>\n",
       "      <td>1104</td>\n",
       "      <td>27318</td>\n",
       "    </tr>\n",
       "    <tr>\n",
       "      <th>3</th>\n",
       "      <td>Belo_Pole</td>\n",
       "      <td>192</td>\n",
       "      <td>25</td>\n",
       "      <td>573</td>\n",
       "      <td>250</td>\n",
       "    </tr>\n",
       "    <tr>\n",
       "      <th>4</th>\n",
       "      <td>Beslen</td>\n",
       "      <td>43</td>\n",
       "      <td>8</td>\n",
       "      <td>528</td>\n",
       "      <td>22</td>\n",
       "    </tr>\n",
       "  </tbody>\n",
       "</table>\n",
       "</div>"
      ],
      "text/plain": [
       "        States  Health_indeces1  Health_indices2  Per_capita_income    GDP\n",
       "0      Bachevo              417               66                564   1823\n",
       "1  Balgarchevo             1485              646               2710  73662\n",
       "2    Belasitsa              654              299               1104  27318\n",
       "3    Belo_Pole              192               25                573    250\n",
       "4       Beslen               43                8                528     22"
      ]
     },
     "execution_count": 7,
     "metadata": {},
     "output_type": "execute_result"
    }
   ],
   "source": [
    "df.drop(['Unnamed: 0'],axis = 1, inplace =True)\n",
    "df.head()"
   ]
  },
  {
   "cell_type": "code",
   "execution_count": 8,
   "id": "d59fa753",
   "metadata": {},
   "outputs": [
    {
     "data": {
      "text/html": [
       "<div>\n",
       "<style scoped>\n",
       "    .dataframe tbody tr th:only-of-type {\n",
       "        vertical-align: middle;\n",
       "    }\n",
       "\n",
       "    .dataframe tbody tr th {\n",
       "        vertical-align: top;\n",
       "    }\n",
       "\n",
       "    .dataframe thead th {\n",
       "        text-align: right;\n",
       "    }\n",
       "</style>\n",
       "<table border=\"1\" class=\"dataframe\">\n",
       "  <thead>\n",
       "    <tr style=\"text-align: right;\">\n",
       "      <th></th>\n",
       "      <th>count</th>\n",
       "      <th>mean</th>\n",
       "      <th>std</th>\n",
       "      <th>min</th>\n",
       "      <th>25%</th>\n",
       "      <th>50%</th>\n",
       "      <th>75%</th>\n",
       "      <th>max</th>\n",
       "    </tr>\n",
       "  </thead>\n",
       "  <tbody>\n",
       "    <tr>\n",
       "      <th>Health_indeces1</th>\n",
       "      <td>297.0</td>\n",
       "      <td>2630.151515</td>\n",
       "      <td>2038.505431</td>\n",
       "      <td>-10.0</td>\n",
       "      <td>641.0</td>\n",
       "      <td>2451.0</td>\n",
       "      <td>4094.0</td>\n",
       "      <td>10219.0</td>\n",
       "    </tr>\n",
       "    <tr>\n",
       "      <th>Health_indices2</th>\n",
       "      <td>297.0</td>\n",
       "      <td>693.632997</td>\n",
       "      <td>468.944354</td>\n",
       "      <td>0.0</td>\n",
       "      <td>175.0</td>\n",
       "      <td>810.0</td>\n",
       "      <td>1073.0</td>\n",
       "      <td>1508.0</td>\n",
       "    </tr>\n",
       "    <tr>\n",
       "      <th>Per_capita_income</th>\n",
       "      <td>297.0</td>\n",
       "      <td>2156.915825</td>\n",
       "      <td>1491.854058</td>\n",
       "      <td>500.0</td>\n",
       "      <td>751.0</td>\n",
       "      <td>1865.0</td>\n",
       "      <td>3137.0</td>\n",
       "      <td>7049.0</td>\n",
       "    </tr>\n",
       "    <tr>\n",
       "      <th>GDP</th>\n",
       "      <td>297.0</td>\n",
       "      <td>174601.117845</td>\n",
       "      <td>167167.992863</td>\n",
       "      <td>22.0</td>\n",
       "      <td>8721.0</td>\n",
       "      <td>137173.0</td>\n",
       "      <td>313092.0</td>\n",
       "      <td>728575.0</td>\n",
       "    </tr>\n",
       "  </tbody>\n",
       "</table>\n",
       "</div>"
      ],
      "text/plain": [
       "                   count           mean            std    min     25%  \\\n",
       "Health_indeces1    297.0    2630.151515    2038.505431  -10.0   641.0   \n",
       "Health_indices2    297.0     693.632997     468.944354    0.0   175.0   \n",
       "Per_capita_income  297.0    2156.915825    1491.854058  500.0   751.0   \n",
       "GDP                297.0  174601.117845  167167.992863   22.0  8721.0   \n",
       "\n",
       "                        50%       75%       max  \n",
       "Health_indeces1      2451.0    4094.0   10219.0  \n",
       "Health_indices2       810.0    1073.0    1508.0  \n",
       "Per_capita_income    1865.0    3137.0    7049.0  \n",
       "GDP                137173.0  313092.0  728575.0  "
      ]
     },
     "execution_count": 8,
     "metadata": {},
     "output_type": "execute_result"
    }
   ],
   "source": [
    "df.describe().T"
   ]
  },
  {
   "cell_type": "markdown",
   "id": "9eb7ec01",
   "metadata": {},
   "source": [
    "Here, we can see that minimum per capita income is 500, Average is 1865 & maximum is 7049 naturally GDP will follow as per the per capita income is for minimum GDP we can see its 22 for average its 1,37,173 and max is 7,28,575. So , from here only we can see that atleast 3 clusters can be formed one with the minimum per capita income & GDP, Second with average per capita income & GDP and third with the maximum per capita income & GDP. Health indeces 1 tell us about, how the health system is performing in the State and Health indeces 2 tell us about, how the health system is performing in certain areas of the State. From,\n",
    "description we can see then minimum section is not performing well, average one is performing accordingly and the max is working at its best. Ofcourse, every category is influencing each other indirectly. "
   ]
  },
  {
   "cell_type": "code",
   "execution_count": 9,
   "id": "13572421",
   "metadata": {},
   "outputs": [
    {
     "data": {
      "image/png": "[encoded data removed]",
      "text/plain": [
       "<Figure size 1440x720 with 8 Axes>"
      ]
     },
     "metadata": {
      "needs_background": "light"
     },
     "output_type": "display_data"
    }
   ],
   "source": [
    "fig, axes = plt.subplots(nrows=2,ncols=4)\n",
    "fig.set_size_inches(20,10)\n",
    "sns.histplot(df['Health_indeces1'], kde=True, ax=axes[0][0]);\n",
    "sns.boxplot(x='Health_indeces1', data=df, ax=axes[0][1]);\n",
    "sns.histplot(df['Health_indices2'], kde=True, ax=axes[0][2]);\n",
    "sns.boxplot(x='Health_indices2', data=df, ax=axes[0][3]);\n",
    "sns.histplot(df['Per_capita_income'], kde=True, ax=axes[1][0]);\n",
    "sns.boxplot(x='Per_capita_income', data=df, ax=axes[1][1]);\n",
    "sns.histplot(df['GDP'], kde=True, ax=axes[1][2]);\n",
    "sns.boxplot(x='GDP', data=df, ax=axes[1][3]);"
   ]
  },
  {
   "cell_type": "markdown",
   "id": "192b5c77",
   "metadata": {},
   "source": [
    "Health indeces 1 and per capita income are having outliers with them but the other two i.e. health indeces 2 and GDP are not having any outliers in them. Also, three categories are right tailed or can say skewed\n",
    "\n",
    "1.healt indeces 1\n",
    "\n",
    "2.Per capita income\n",
    "\n",
    "3.GDP."
   ]
  },
  {
   "cell_type": "code",
   "execution_count": 10,
   "id": "f76c6115",
   "metadata": {},
   "outputs": [
    {
     "data": {
      "image/png": "[encoded data removed]",
      "text/plain": [
       "<Figure size 720x720 with 20 Axes>"
      ]
     },
     "metadata": {
      "needs_background": "light"
     },
     "output_type": "display_data"
    }
   ],
   "source": [
    "sns.pairplot(df, diag_kind='kde');"
   ]
  },
  {
   "cell_type": "markdown",
   "id": "6f8630d6",
   "metadata": {},
   "source": [
    "Every category have a positive correlation with each other."
   ]
  },
  {
   "cell_type": "code",
   "execution_count": 11,
   "id": "62df52a2",
   "metadata": {},
   "outputs": [
    {
     "data": {
      "image/png": "[encoded data removed]",
      "text/plain": [
       "<Figure size 432x288 with 2 Axes>"
      ]
     },
     "metadata": {
      "needs_background": "light"
     },
     "output_type": "display_data"
    }
   ],
   "source": [
    "sns.heatmap(df.corr(), annot = True, fmt='.2g');"
   ]
  },
  {
   "cell_type": "markdown",
   "id": "f5968050",
   "metadata": {},
   "source": [
    "Every variable is affecting each other in some or the other way. Thus, having high correlation between them.There is an average relationship between per capita income and GDP & Health indeces 1. "
   ]
  },
  {
   "cell_type": "markdown",
   "id": "8db5fe94",
   "metadata": {},
   "source": [
    "## 1.2. Do you think scaling is necessary for clustering in this case? Justify"
   ]
  },
  {
   "cell_type": "markdown",
   "id": "29315128",
   "metadata": {},
   "source": [
    "#### Why Scaling is important ?\n",
    "\n",
    "It controls the variability of the dataset, it convert data into specific range using a linear transformation which generate good quality clusters and improve the accuracy of clustering algorithms."
   ]
  },
  {
   "cell_type": "code",
   "execution_count": 12,
   "id": "531f05ce",
   "metadata": {},
   "outputs": [
    {
     "data": {
      "text/plain": [
       "array([[-1.08750595, -1.34065436, -1.06954449, -1.03530421],\n",
       "       [-0.56270846, -0.10174638,  0.37136183, -0.60483755],\n",
       "       [-0.97104808, -0.84295512, -0.70696788, -0.88253555],\n",
       "       ...,\n",
       "       [ 0.31735924, -0.18078016, -0.42630672, -0.32607295],\n",
       "       [ 0.40924793,  0.32759932, -0.82111237,  0.14861542],\n",
       "       [-0.27524917,  0.30837488,  0.68626633, -0.04694284]])"
      ]
     },
     "execution_count": 12,
     "metadata": {},
     "output_type": "execute_result"
    }
   ],
   "source": [
    "x = StandardScaler()\n",
    "df1 = x.fit_transform(df.iloc[:,1:5])\n",
    "df1"
   ]
  },
  {
   "cell_type": "code",
   "execution_count": 13,
   "id": "fed4e151",
   "metadata": {},
   "outputs": [
    {
     "data": {
      "text/html": [
       "<div>\n",
       "<style scoped>\n",
       "    .dataframe tbody tr th:only-of-type {\n",
       "        vertical-align: middle;\n",
       "    }\n",
       "\n",
       "    .dataframe tbody tr th {\n",
       "        vertical-align: top;\n",
       "    }\n",
       "\n",
       "    .dataframe thead th {\n",
       "        text-align: right;\n",
       "    }\n",
       "</style>\n",
       "<table border=\"1\" class=\"dataframe\">\n",
       "  <thead>\n",
       "    <tr style=\"text-align: right;\">\n",
       "      <th></th>\n",
       "      <th>Health_indeces1</th>\n",
       "      <th>Health_indices2</th>\n",
       "      <th>Per_capita_income</th>\n",
       "      <th>GDP</th>\n",
       "    </tr>\n",
       "  </thead>\n",
       "  <tbody>\n",
       "    <tr>\n",
       "      <th>0</th>\n",
       "      <td>-1.087506</td>\n",
       "      <td>-1.340654</td>\n",
       "      <td>-1.069544</td>\n",
       "      <td>-1.035304</td>\n",
       "    </tr>\n",
       "    <tr>\n",
       "      <th>1</th>\n",
       "      <td>-0.562708</td>\n",
       "      <td>-0.101746</td>\n",
       "      <td>0.371362</td>\n",
       "      <td>-0.604838</td>\n",
       "    </tr>\n",
       "    <tr>\n",
       "      <th>2</th>\n",
       "      <td>-0.971048</td>\n",
       "      <td>-0.842955</td>\n",
       "      <td>-0.706968</td>\n",
       "      <td>-0.882536</td>\n",
       "    </tr>\n",
       "    <tr>\n",
       "      <th>3</th>\n",
       "      <td>-1.198067</td>\n",
       "      <td>-1.428232</td>\n",
       "      <td>-1.063502</td>\n",
       "      <td>-1.044730</td>\n",
       "    </tr>\n",
       "    <tr>\n",
       "      <th>4</th>\n",
       "      <td>-1.271283</td>\n",
       "      <td>-1.464545</td>\n",
       "      <td>-1.093716</td>\n",
       "      <td>-1.046096</td>\n",
       "    </tr>\n",
       "  </tbody>\n",
       "</table>\n",
       "</div>"
      ],
      "text/plain": [
       "   Health_indeces1  Health_indices2  Per_capita_income       GDP\n",
       "0        -1.087506        -1.340654          -1.069544 -1.035304\n",
       "1        -0.562708        -0.101746           0.371362 -0.604838\n",
       "2        -0.971048        -0.842955          -0.706968 -0.882536\n",
       "3        -1.198067        -1.428232          -1.063502 -1.044730\n",
       "4        -1.271283        -1.464545          -1.093716 -1.046096"
      ]
     },
     "execution_count": 13,
     "metadata": {},
     "output_type": "execute_result"
    }
   ],
   "source": [
    "df2 = pd.DataFrame(df1,index = df.index[:] ,columns = df.columns[1:5])\n",
    "df2.head()"
   ]
  },
  {
   "cell_type": "markdown",
   "id": "d4c21818",
   "metadata": {},
   "source": [
    "## 1.3. Apply hierarchical clustering to scaled data. Identify the number of optimum clusters using Dendrogram and briefly describe them."
   ]
  },
  {
   "cell_type": "code",
   "execution_count": 14,
   "id": "61e3ebef",
   "metadata": {},
   "outputs": [
    {
     "data": {
      "image/png": "[encoded data removed]",
      "text/plain": [
       "<Figure size 432x288 with 1 Axes>"
      ]
     },
     "metadata": {
      "needs_background": "light"
     },
     "output_type": "display_data"
    }
   ],
   "source": [
    "HClust = linkage(df1,method = 'ward')\n",
    "dend = dendrogram(HClust)"
   ]
  },
  {
   "cell_type": "code",
   "execution_count": 15,
   "id": "05849ba7",
   "metadata": {},
   "outputs": [
    {
     "data": {
      "image/png": "[encoded data removed]",
      "text/plain": [
       "<Figure size 432x288 with 1 Axes>"
      ]
     },
     "metadata": {
      "needs_background": "light"
     },
     "output_type": "display_data"
    }
   ],
   "source": [
    "dend = dendrogram(HClust,\n",
    "                 truncate_mode='lastp',\n",
    "                 p = 14,\n",
    "                 )"
   ]
  },
  {
   "cell_type": "code",
   "execution_count": 16,
   "id": "dbda5287",
   "metadata": {},
   "outputs": [
    {
     "data": {
      "text/plain": [
       "array([2, 3, 2, 2, 2, 2, 2, 1, 2, 3, 2, 2, 2, 2, 2, 2, 1, 2, 2, 1, 3, 2,\n",
       "       2, 2, 3, 2, 3, 3, 3, 2, 3, 2, 2, 1, 2, 2, 1, 3, 2, 3, 2, 2, 3, 3,\n",
       "       3, 2, 2, 1, 2, 2, 2, 3, 2, 1, 2, 3, 3, 2, 2, 3, 3, 2, 2, 1, 3, 2,\n",
       "       3, 2, 2, 2, 2, 3, 2, 2, 2, 2, 3, 3, 2, 2, 2, 2, 2, 2, 3, 3, 2, 2,\n",
       "       2, 1, 2, 2, 2, 3, 2, 2, 3, 2, 2, 3, 2, 2, 1, 2, 3, 2, 3, 3, 2, 2,\n",
       "       2, 1, 3, 3, 2, 2, 2, 3, 2, 2, 3, 2, 2, 2, 1, 2, 3, 2, 2, 3, 2, 2,\n",
       "       2, 3, 2, 2, 2, 2, 2, 3, 2, 3, 2, 2, 2, 3, 1, 2, 3, 2, 1, 1, 1, 1,\n",
       "       1, 1, 1, 1, 1, 1, 1, 1, 1, 1, 1, 1, 1, 1, 1, 1, 1, 1, 1, 1, 1, 1,\n",
       "       1, 1, 1, 1, 1, 1, 1, 1, 1, 1, 1, 1, 1, 1, 1, 1, 1, 1, 1, 1, 1, 1,\n",
       "       1, 1, 1, 1, 1, 1, 1, 1, 1, 1, 1, 1, 1, 1, 1, 1, 1, 1, 1, 1, 1, 1,\n",
       "       1, 1, 1, 1, 1, 1, 1, 1, 1, 1, 1, 1, 1, 1, 1, 1, 3, 3, 3, 3, 3, 3,\n",
       "       3, 3, 3, 3, 3, 3, 3, 3, 3, 3, 3, 3, 3, 3, 3, 3, 3, 3, 3, 3, 3, 3,\n",
       "       3, 3, 3, 3, 3, 3, 3, 3, 3, 3, 3, 3, 3, 3, 3, 3, 3, 3, 3, 3, 3, 3,\n",
       "       3, 3, 3, 3, 3, 3, 3, 3, 3, 3, 3], dtype=int32)"
      ]
     },
     "execution_count": 16,
     "metadata": {},
     "output_type": "execute_result"
    }
   ],
   "source": [
    "cluster = fcluster(HClust, 3, criterion='maxclust')\n",
    "cluster"
   ]
  },
  {
   "cell_type": "markdown",
   "id": "9e59539e",
   "metadata": {},
   "source": [
    "Even though it seems like we are getting 2 clusters i'm choosing 3 as we can already see in our descripyive data that 3 groups can bs formed according to the per capita income and GDP. So, for this reason im choosing 3 clusters here."
   ]
  },
  {
   "cell_type": "code",
   "execution_count": 17,
   "id": "207ff0fe",
   "metadata": {},
   "outputs": [
    {
     "data": {
      "text/html": [
       "<div>\n",
       "<style scoped>\n",
       "    .dataframe tbody tr th:only-of-type {\n",
       "        vertical-align: middle;\n",
       "    }\n",
       "\n",
       "    .dataframe tbody tr th {\n",
       "        vertical-align: top;\n",
       "    }\n",
       "\n",
       "    .dataframe thead th {\n",
       "        text-align: right;\n",
       "    }\n",
       "</style>\n",
       "<table border=\"1\" class=\"dataframe\">\n",
       "  <thead>\n",
       "    <tr style=\"text-align: right;\">\n",
       "      <th></th>\n",
       "      <th>States</th>\n",
       "      <th>Health_indeces1</th>\n",
       "      <th>Health_indices2</th>\n",
       "      <th>Per_capita_income</th>\n",
       "      <th>GDP</th>\n",
       "      <th>H_Clusters</th>\n",
       "    </tr>\n",
       "  </thead>\n",
       "  <tbody>\n",
       "    <tr>\n",
       "      <th>0</th>\n",
       "      <td>Bachevo</td>\n",
       "      <td>417</td>\n",
       "      <td>66</td>\n",
       "      <td>564</td>\n",
       "      <td>1823</td>\n",
       "      <td>2</td>\n",
       "    </tr>\n",
       "    <tr>\n",
       "      <th>1</th>\n",
       "      <td>Balgarchevo</td>\n",
       "      <td>1485</td>\n",
       "      <td>646</td>\n",
       "      <td>2710</td>\n",
       "      <td>73662</td>\n",
       "      <td>3</td>\n",
       "    </tr>\n",
       "    <tr>\n",
       "      <th>2</th>\n",
       "      <td>Belasitsa</td>\n",
       "      <td>654</td>\n",
       "      <td>299</td>\n",
       "      <td>1104</td>\n",
       "      <td>27318</td>\n",
       "      <td>2</td>\n",
       "    </tr>\n",
       "    <tr>\n",
       "      <th>3</th>\n",
       "      <td>Belo_Pole</td>\n",
       "      <td>192</td>\n",
       "      <td>25</td>\n",
       "      <td>573</td>\n",
       "      <td>250</td>\n",
       "      <td>2</td>\n",
       "    </tr>\n",
       "    <tr>\n",
       "      <th>4</th>\n",
       "      <td>Beslen</td>\n",
       "      <td>43</td>\n",
       "      <td>8</td>\n",
       "      <td>528</td>\n",
       "      <td>22</td>\n",
       "      <td>2</td>\n",
       "    </tr>\n",
       "    <tr>\n",
       "      <th>5</th>\n",
       "      <td>Bogolin</td>\n",
       "      <td>69</td>\n",
       "      <td>14</td>\n",
       "      <td>527</td>\n",
       "      <td>73</td>\n",
       "      <td>2</td>\n",
       "    </tr>\n",
       "    <tr>\n",
       "      <th>6</th>\n",
       "      <td>Bogoroditsa</td>\n",
       "      <td>307</td>\n",
       "      <td>69</td>\n",
       "      <td>707</td>\n",
       "      <td>1724</td>\n",
       "      <td>2</td>\n",
       "    </tr>\n",
       "    <tr>\n",
       "      <th>7</th>\n",
       "      <td>Buchino</td>\n",
       "      <td>10219</td>\n",
       "      <td>1508</td>\n",
       "      <td>7049</td>\n",
       "      <td>449003</td>\n",
       "      <td>1</td>\n",
       "    </tr>\n",
       "    <tr>\n",
       "      <th>8</th>\n",
       "      <td>Budiltsi</td>\n",
       "      <td>744</td>\n",
       "      <td>115</td>\n",
       "      <td>809</td>\n",
       "      <td>7497</td>\n",
       "      <td>2</td>\n",
       "    </tr>\n",
       "    <tr>\n",
       "      <th>9</th>\n",
       "      <td>Cherniche</td>\n",
       "      <td>2975</td>\n",
       "      <td>857</td>\n",
       "      <td>1600</td>\n",
       "      <td>153299</td>\n",
       "      <td>3</td>\n",
       "    </tr>\n",
       "  </tbody>\n",
       "</table>\n",
       "</div>"
      ],
      "text/plain": [
       "        States  Health_indeces1  Health_indices2  Per_capita_income     GDP  \\\n",
       "0      Bachevo              417               66                564    1823   \n",
       "1  Balgarchevo             1485              646               2710   73662   \n",
       "2    Belasitsa              654              299               1104   27318   \n",
       "3    Belo_Pole              192               25                573     250   \n",
       "4       Beslen               43                8                528      22   \n",
       "5      Bogolin               69               14                527      73   \n",
       "6  Bogoroditsa              307               69                707    1724   \n",
       "7      Buchino            10219             1508               7049  449003   \n",
       "8     Budiltsi              744              115                809    7497   \n",
       "9    Cherniche             2975              857               1600  153299   \n",
       "\n",
       "   H_Clusters  \n",
       "0           2  \n",
       "1           3  \n",
       "2           2  \n",
       "3           2  \n",
       "4           2  \n",
       "5           2  \n",
       "6           2  \n",
       "7           1  \n",
       "8           2  \n",
       "9           3  "
      ]
     },
     "execution_count": 17,
     "metadata": {},
     "output_type": "execute_result"
    }
   ],
   "source": [
    "df['H_Clusters'] = cluster\n",
    "df.head(10)"
   ]
  },
  {
   "cell_type": "code",
   "execution_count": 18,
   "id": "973d1017",
   "metadata": {},
   "outputs": [
    {
     "data": {
      "text/plain": [
       "1     99\n",
       "2     95\n",
       "3    103\n",
       "Name: H_Clusters, dtype: int64"
      ]
     },
     "execution_count": 18,
     "metadata": {},
     "output_type": "execute_result"
    }
   ],
   "source": [
    "df['H_Clusters'].value_counts().sort_index()"
   ]
  },
  {
   "cell_type": "markdown",
   "id": "00cfcd00",
   "metadata": {},
   "source": [
    "99 States comes in cluster 1, 95 States comes in cluster 2 and 103 States comes in cluster 3."
   ]
  },
  {
   "cell_type": "code",
   "execution_count": 19,
   "id": "464e126b",
   "metadata": {},
   "outputs": [
    {
     "data": {
      "text/html": [
       "<div>\n",
       "<style scoped>\n",
       "    .dataframe tbody tr th:only-of-type {\n",
       "        vertical-align: middle;\n",
       "    }\n",
       "\n",
       "    .dataframe tbody tr th {\n",
       "        vertical-align: top;\n",
       "    }\n",
       "\n",
       "    .dataframe thead th {\n",
       "        text-align: right;\n",
       "    }\n",
       "</style>\n",
       "<table border=\"1\" class=\"dataframe\">\n",
       "  <thead>\n",
       "    <tr style=\"text-align: right;\">\n",
       "      <th></th>\n",
       "      <th>Health_indeces1</th>\n",
       "      <th>Health_indices2</th>\n",
       "      <th>Per_capita_income</th>\n",
       "      <th>GDP</th>\n",
       "    </tr>\n",
       "    <tr>\n",
       "      <th>H_Clusters</th>\n",
       "      <th></th>\n",
       "      <th></th>\n",
       "      <th></th>\n",
       "      <th></th>\n",
       "    </tr>\n",
       "  </thead>\n",
       "  <tbody>\n",
       "    <tr>\n",
       "      <th>1</th>\n",
       "      <td>4923.545455</td>\n",
       "      <td>1201.646465</td>\n",
       "      <td>3375.141414</td>\n",
       "      <td>377132.474747</td>\n",
       "    </tr>\n",
       "    <tr>\n",
       "      <th>2</th>\n",
       "      <td>401.063158</td>\n",
       "      <td>104.536842</td>\n",
       "      <td>680.673684</td>\n",
       "      <td>5388.768421</td>\n",
       "    </tr>\n",
       "    <tr>\n",
       "      <th>3</th>\n",
       "      <td>2481.776699</td>\n",
       "      <td>748.689320</td>\n",
       "      <td>2347.582524</td>\n",
       "      <td>136004.699029</td>\n",
       "    </tr>\n",
       "  </tbody>\n",
       "</table>\n",
       "</div>"
      ],
      "text/plain": [
       "            Health_indeces1  Health_indices2  Per_capita_income            GDP\n",
       "H_Clusters                                                                    \n",
       "1               4923.545455      1201.646465        3375.141414  377132.474747\n",
       "2                401.063158       104.536842         680.673684    5388.768421\n",
       "3               2481.776699       748.689320        2347.582524  136004.699029"
      ]
     },
     "execution_count": 19,
     "metadata": {},
     "output_type": "execute_result"
    }
   ],
   "source": [
    "aggdata1=df.groupby('H_Clusters').mean()\n",
    "aggdata1"
   ]
  },
  {
   "cell_type": "markdown",
   "id": "af9a2360",
   "metadata": {},
   "source": [
    "### Infrences :\n",
    "\n",
    "Now, here we can see the group of three cluster, \n",
    "\n",
    "1. Which belongs to the lowest per capita income and GDP. which is our \"2nd group\" with lowest values as compared to other two.\n",
    "\n",
    "\n",
    "2. Which belongs to the group with average Per capita income and GDP. which is our \"3rd group\" with average values this group is sounding healthy compared to 2nd group but its less then our 1st group which is the most healthy group.\n",
    "\n",
    "\n",
    "3. Which belongs to the \"1st group\" with the most healthy and sounding group in terms of per capita income and GDP in comparison to other two groups. \n",
    "\n",
    "So, according to health system \"Group 2\" comes in a group which have a very bad health system, \"Group 3\" comes in a group which have a decent health system and \"Group 1\" comes in a group which have a very excellent health system according to our infrences that we took out.\n",
    "\n",
    "\n",
    "### Suggestions :\n",
    "\n",
    "1. We need to keep a track on these states which comes in \"2nd group\" because right now their health system is performing the worst meaning lots of people will we suffering over there and their health condition is not good according to our data. So, that we can develop some strategies to develop that state. So, that we can reduce the number of casualties in that state and the problems faced by the people over there, development of these states should be on our 1st priority list compared to other two groups. Also, these states needs the support in financial aspect as well as we can see the states which falls in this group have the very least amount of per capita income and GDP this is also one of the factor resulting in a very poor health system over there.\n",
    "\n",
    "\n",
    "2. Here, in our \"3rd Group\" the health system is decent so we should expect that decent amount of people in these states are getting health issues, we must keep in mind still these states needs development in their health system so that they can live properly these states should be on our 2nd priority list so that the people wont have to face further problem in their states related to health issue and can lead a healthy life for themselves. In, terms of financial need they need a bit of support as this is also one of the factors affecting the health system in these states.\n",
    "\n",
    "\n",
    "3. Here, in our \"1st Group\" i dont think so we need to change anything as they are sounding very health in terms of health system as well and financially as well here we can do on thing whenever there is complain we can check these cities as their health system is performing really good as most the population of the states is healthy and also have good financial strenght as well these states should be on our 3rd priority list as very minimilistic changes are required over here compared to the other two groups that we can see.  \n"
   ]
  },
  {
   "cell_type": "markdown",
   "id": "04b093a3",
   "metadata": {},
   "source": [
    "## 1.4 Apply K-Means clustering on scaled data and determine optimum clusters. Apply elbow curve and silhouette score. Explain the results properly. Interpret and write inferences on the finalized clusters."
   ]
  },
  {
   "cell_type": "code",
   "execution_count": 20,
   "id": "94cda3e0",
   "metadata": {},
   "outputs": [],
   "source": [
    "wss =[] "
   ]
  },
  {
   "cell_type": "code",
   "execution_count": 21,
   "id": "15635490",
   "metadata": {},
   "outputs": [],
   "source": [
    "for i in range(1,11):\n",
    "    KM = KMeans(n_clusters=i,random_state=1)\n",
    "    KM.fit(df1)\n",
    "    wss.append(KM.inertia_);"
   ]
  },
  {
   "cell_type": "code",
   "execution_count": 22,
   "id": "22ef3f4b",
   "metadata": {},
   "outputs": [
    {
     "data": {
      "text/plain": [
       "[1188.0,\n",
       " 471.35934639899375,\n",
       " 260.5729408376231,\n",
       " 183.60983976801262,\n",
       " 149.787873629525,\n",
       " 117.31925615245092,\n",
       " 91.31804835544855,\n",
       " 79.79633768915954,\n",
       " 71.06763708986425,\n",
       " 63.728636536275786]"
      ]
     },
     "execution_count": 22,
     "metadata": {},
     "output_type": "execute_result"
    }
   ],
   "source": [
    "wss"
   ]
  },
  {
   "cell_type": "code",
   "execution_count": 23,
   "id": "871b276a",
   "metadata": {},
   "outputs": [
    {
     "data": {
      "image/png": "[encoded data removed]",
      "text/plain": [
       "<Figure size 432x288 with 1 Axes>"
      ]
     },
     "metadata": {
      "needs_background": "light"
     },
     "output_type": "display_data"
    }
   ],
   "source": [
    "plt.plot(range(1,11), wss, marker = 'o')\n",
    "plt.grid()\n",
    "plt.show()"
   ]
  },
  {
   "cell_type": "markdown",
   "id": "1048b721",
   "metadata": {},
   "source": [
    "WSS is the sum of the square of the distance of each point from its center in the cluster(sum of squared errors), and this distance can help us calculate what the appropriate of the value of K we can take or can say how many clusters we can make.\n",
    "Here, through the graphical represention of the graph i can make out that 3 cluster would be optimal for us as this graphn is plotting the points which we find out through wss."
   ]
  },
  {
   "cell_type": "code",
   "execution_count": 24,
   "id": "dd1a9844",
   "metadata": {},
   "outputs": [],
   "source": [
    "k_means = KMeans(n_clusters = 3)\n",
    "k_means.fit(df1)\n",
    "labels = k_means.labels_"
   ]
  },
  {
   "cell_type": "code",
   "execution_count": 25,
   "id": "0b5fd1a5",
   "metadata": {},
   "outputs": [
    {
     "data": {
      "text/html": [
       "<div>\n",
       "<style scoped>\n",
       "    .dataframe tbody tr th:only-of-type {\n",
       "        vertical-align: middle;\n",
       "    }\n",
       "\n",
       "    .dataframe tbody tr th {\n",
       "        vertical-align: top;\n",
       "    }\n",
       "\n",
       "    .dataframe thead th {\n",
       "        text-align: right;\n",
       "    }\n",
       "</style>\n",
       "<table border=\"1\" class=\"dataframe\">\n",
       "  <thead>\n",
       "    <tr style=\"text-align: right;\">\n",
       "      <th></th>\n",
       "      <th>States</th>\n",
       "      <th>Health_indeces1</th>\n",
       "      <th>Health_indices2</th>\n",
       "      <th>Per_capita_income</th>\n",
       "      <th>GDP</th>\n",
       "      <th>H_Clusters</th>\n",
       "      <th>KMeans_Clus</th>\n",
       "    </tr>\n",
       "  </thead>\n",
       "  <tbody>\n",
       "    <tr>\n",
       "      <th>0</th>\n",
       "      <td>Bachevo</td>\n",
       "      <td>417</td>\n",
       "      <td>66</td>\n",
       "      <td>564</td>\n",
       "      <td>1823</td>\n",
       "      <td>2</td>\n",
       "      <td>0</td>\n",
       "    </tr>\n",
       "    <tr>\n",
       "      <th>1</th>\n",
       "      <td>Balgarchevo</td>\n",
       "      <td>1485</td>\n",
       "      <td>646</td>\n",
       "      <td>2710</td>\n",
       "      <td>73662</td>\n",
       "      <td>3</td>\n",
       "      <td>1</td>\n",
       "    </tr>\n",
       "    <tr>\n",
       "      <th>2</th>\n",
       "      <td>Belasitsa</td>\n",
       "      <td>654</td>\n",
       "      <td>299</td>\n",
       "      <td>1104</td>\n",
       "      <td>27318</td>\n",
       "      <td>2</td>\n",
       "      <td>0</td>\n",
       "    </tr>\n",
       "    <tr>\n",
       "      <th>3</th>\n",
       "      <td>Belo_Pole</td>\n",
       "      <td>192</td>\n",
       "      <td>25</td>\n",
       "      <td>573</td>\n",
       "      <td>250</td>\n",
       "      <td>2</td>\n",
       "      <td>0</td>\n",
       "    </tr>\n",
       "    <tr>\n",
       "      <th>4</th>\n",
       "      <td>Beslen</td>\n",
       "      <td>43</td>\n",
       "      <td>8</td>\n",
       "      <td>528</td>\n",
       "      <td>22</td>\n",
       "      <td>2</td>\n",
       "      <td>0</td>\n",
       "    </tr>\n",
       "    <tr>\n",
       "      <th>5</th>\n",
       "      <td>Bogolin</td>\n",
       "      <td>69</td>\n",
       "      <td>14</td>\n",
       "      <td>527</td>\n",
       "      <td>73</td>\n",
       "      <td>2</td>\n",
       "      <td>0</td>\n",
       "    </tr>\n",
       "    <tr>\n",
       "      <th>6</th>\n",
       "      <td>Bogoroditsa</td>\n",
       "      <td>307</td>\n",
       "      <td>69</td>\n",
       "      <td>707</td>\n",
       "      <td>1724</td>\n",
       "      <td>2</td>\n",
       "      <td>0</td>\n",
       "    </tr>\n",
       "    <tr>\n",
       "      <th>7</th>\n",
       "      <td>Buchino</td>\n",
       "      <td>10219</td>\n",
       "      <td>1508</td>\n",
       "      <td>7049</td>\n",
       "      <td>449003</td>\n",
       "      <td>1</td>\n",
       "      <td>2</td>\n",
       "    </tr>\n",
       "    <tr>\n",
       "      <th>8</th>\n",
       "      <td>Budiltsi</td>\n",
       "      <td>744</td>\n",
       "      <td>115</td>\n",
       "      <td>809</td>\n",
       "      <td>7497</td>\n",
       "      <td>2</td>\n",
       "      <td>0</td>\n",
       "    </tr>\n",
       "    <tr>\n",
       "      <th>9</th>\n",
       "      <td>Cherniche</td>\n",
       "      <td>2975</td>\n",
       "      <td>857</td>\n",
       "      <td>1600</td>\n",
       "      <td>153299</td>\n",
       "      <td>3</td>\n",
       "      <td>1</td>\n",
       "    </tr>\n",
       "  </tbody>\n",
       "</table>\n",
       "</div>"
      ],
      "text/plain": [
       "        States  Health_indeces1  Health_indices2  Per_capita_income     GDP  \\\n",
       "0      Bachevo              417               66                564    1823   \n",
       "1  Balgarchevo             1485              646               2710   73662   \n",
       "2    Belasitsa              654              299               1104   27318   \n",
       "3    Belo_Pole              192               25                573     250   \n",
       "4       Beslen               43                8                528      22   \n",
       "5      Bogolin               69               14                527      73   \n",
       "6  Bogoroditsa              307               69                707    1724   \n",
       "7      Buchino            10219             1508               7049  449003   \n",
       "8     Budiltsi              744              115                809    7497   \n",
       "9    Cherniche             2975              857               1600  153299   \n",
       "\n",
       "   H_Clusters  KMeans_Clus  \n",
       "0           2            0  \n",
       "1           3            1  \n",
       "2           2            0  \n",
       "3           2            0  \n",
       "4           2            0  \n",
       "5           2            0  \n",
       "6           2            0  \n",
       "7           1            2  \n",
       "8           2            0  \n",
       "9           3            1  "
      ]
     },
     "execution_count": 25,
     "metadata": {},
     "output_type": "execute_result"
    }
   ],
   "source": [
    "df[\"KMeans_Clus\"] = labels\n",
    "df.head(10)"
   ]
  },
  {
   "cell_type": "code",
   "execution_count": 26,
   "id": "be0023ca",
   "metadata": {},
   "outputs": [
    {
     "data": {
      "text/plain": [
       "0    101\n",
       "1    101\n",
       "2     95\n",
       "Name: KMeans_Clus, dtype: int64"
      ]
     },
     "execution_count": 26,
     "metadata": {},
     "output_type": "execute_result"
    }
   ],
   "source": [
    "df['KMeans_Clus'].value_counts().sort_index()"
   ]
  },
  {
   "cell_type": "markdown",
   "id": "f58a5574",
   "metadata": {},
   "source": [
    "Cluster 0 have 101 states in it, which are lowest in their situation of physical health system & financially as well.\n",
    "\n",
    "Cluster 1 have 101 states in it, which have average in physical health system & financially as well.\n",
    "\n",
    "Cluster 2 have 95 states in it, which is having excellent in physical health system & financially as well."
   ]
  },
  {
   "cell_type": "code",
   "execution_count": 27,
   "id": "8f2cad3c",
   "metadata": {},
   "outputs": [
    {
     "data": {
      "text/html": [
       "<div>\n",
       "<style scoped>\n",
       "    .dataframe tbody tr th:only-of-type {\n",
       "        vertical-align: middle;\n",
       "    }\n",
       "\n",
       "    .dataframe tbody tr th {\n",
       "        vertical-align: top;\n",
       "    }\n",
       "\n",
       "    .dataframe thead th {\n",
       "        text-align: right;\n",
       "    }\n",
       "</style>\n",
       "<table border=\"1\" class=\"dataframe\">\n",
       "  <thead>\n",
       "    <tr style=\"text-align: right;\">\n",
       "      <th></th>\n",
       "      <th>Health_indeces1</th>\n",
       "      <th>Health_indices2</th>\n",
       "      <th>Per_capita_income</th>\n",
       "      <th>GDP</th>\n",
       "      <th>H_Clusters</th>\n",
       "    </tr>\n",
       "    <tr>\n",
       "      <th>KMeans_Clus</th>\n",
       "      <th></th>\n",
       "      <th></th>\n",
       "      <th></th>\n",
       "      <th></th>\n",
       "      <th></th>\n",
       "    </tr>\n",
       "  </thead>\n",
       "  <tbody>\n",
       "    <tr>\n",
       "      <th>0</th>\n",
       "      <td>499.158416</td>\n",
       "      <td>116.356436</td>\n",
       "      <td>693.772277</td>\n",
       "      <td>9428.099010</td>\n",
       "      <td>2.059406</td>\n",
       "    </tr>\n",
       "    <tr>\n",
       "      <th>1</th>\n",
       "      <td>2597.089109</td>\n",
       "      <td>783.019802</td>\n",
       "      <td>2464.128713</td>\n",
       "      <td>141264.138614</td>\n",
       "      <td>2.920792</td>\n",
       "    </tr>\n",
       "    <tr>\n",
       "      <th>2</th>\n",
       "      <td>4930.884211</td>\n",
       "      <td>1212.336842</td>\n",
       "      <td>3385.852632</td>\n",
       "      <td>385648.589474</td>\n",
       "      <td>1.000000</td>\n",
       "    </tr>\n",
       "  </tbody>\n",
       "</table>\n",
       "</div>"
      ],
      "text/plain": [
       "             Health_indeces1  Health_indices2  Per_capita_income  \\\n",
       "KMeans_Clus                                                        \n",
       "0                 499.158416       116.356436         693.772277   \n",
       "1                2597.089109       783.019802        2464.128713   \n",
       "2                4930.884211      1212.336842        3385.852632   \n",
       "\n",
       "                       GDP  H_Clusters  \n",
       "KMeans_Clus                             \n",
       "0              9428.099010    2.059406  \n",
       "1            141264.138614    2.920792  \n",
       "2            385648.589474    1.000000  "
      ]
     },
     "execution_count": 27,
     "metadata": {},
     "output_type": "execute_result"
    }
   ],
   "source": [
    "aggdata2=df.groupby('KMeans_Clus').mean()\n",
    "aggdata2"
   ]
  },
  {
   "cell_type": "markdown",
   "id": "95543028",
   "metadata": {},
   "source": [
    "Here, we can see group of 3 clusters 0 the most lowest group one 1 is the average group and 2 is the most well organized group.\n",
    "\n",
    "1. \"Group 0\" is the the group which have the lowest per capita income and GDP out of the other two groups.\n",
    "\n",
    "2. \"Group 1\" this group is a decent one in terms of per capita income anf GDP.\n",
    "\n",
    "3. \"Group 2\" this group is the most excellent group in terms of per capita income and GDP.\n",
    "\n",
    "So, according to the dataset we have to make cluster of the states according to their physical health system. so, here we obtain three groups with the lowest, average and the excellent physical health system.  "
   ]
  },
  {
   "cell_type": "code",
   "execution_count": 28,
   "id": "89054190",
   "metadata": {},
   "outputs": [
    {
     "data": {
      "text/plain": [
       "0.5335432108748761"
      ]
     },
     "execution_count": 28,
     "metadata": {},
     "output_type": "execute_result"
    }
   ],
   "source": [
    "silhouette_score(df1,labels)"
   ]
  },
  {
   "cell_type": "code",
   "execution_count": 29,
   "id": "bdc2ed6a",
   "metadata": {},
   "outputs": [],
   "source": [
    "sil_width = silhouette_samples(df1,labels)"
   ]
  },
  {
   "cell_type": "code",
   "execution_count": 30,
   "id": "d4b4870e",
   "metadata": {},
   "outputs": [
    {
     "data": {
      "text/html": [
       "<div>\n",
       "<style scoped>\n",
       "    .dataframe tbody tr th:only-of-type {\n",
       "        vertical-align: middle;\n",
       "    }\n",
       "\n",
       "    .dataframe tbody tr th {\n",
       "        vertical-align: top;\n",
       "    }\n",
       "\n",
       "    .dataframe thead th {\n",
       "        text-align: right;\n",
       "    }\n",
       "</style>\n",
       "<table border=\"1\" class=\"dataframe\">\n",
       "  <thead>\n",
       "    <tr style=\"text-align: right;\">\n",
       "      <th></th>\n",
       "      <th>States</th>\n",
       "      <th>Health_indeces1</th>\n",
       "      <th>Health_indices2</th>\n",
       "      <th>Per_capita_income</th>\n",
       "      <th>GDP</th>\n",
       "      <th>H_Clusters</th>\n",
       "      <th>KMeans_Clus</th>\n",
       "      <th>sil_width</th>\n",
       "    </tr>\n",
       "  </thead>\n",
       "  <tbody>\n",
       "    <tr>\n",
       "      <th>0</th>\n",
       "      <td>Bachevo</td>\n",
       "      <td>417</td>\n",
       "      <td>66</td>\n",
       "      <td>564</td>\n",
       "      <td>1823</td>\n",
       "      <td>2</td>\n",
       "      <td>0</td>\n",
       "      <td>0.878852</td>\n",
       "    </tr>\n",
       "    <tr>\n",
       "      <th>1</th>\n",
       "      <td>Balgarchevo</td>\n",
       "      <td>1485</td>\n",
       "      <td>646</td>\n",
       "      <td>2710</td>\n",
       "      <td>73662</td>\n",
       "      <td>3</td>\n",
       "      <td>1</td>\n",
       "      <td>0.429639</td>\n",
       "    </tr>\n",
       "    <tr>\n",
       "      <th>2</th>\n",
       "      <td>Belasitsa</td>\n",
       "      <td>654</td>\n",
       "      <td>299</td>\n",
       "      <td>1104</td>\n",
       "      <td>27318</td>\n",
       "      <td>2</td>\n",
       "      <td>0</td>\n",
       "      <td>0.690607</td>\n",
       "    </tr>\n",
       "    <tr>\n",
       "      <th>3</th>\n",
       "      <td>Belo_Pole</td>\n",
       "      <td>192</td>\n",
       "      <td>25</td>\n",
       "      <td>573</td>\n",
       "      <td>250</td>\n",
       "      <td>2</td>\n",
       "      <td>0</td>\n",
       "      <td>0.876148</td>\n",
       "    </tr>\n",
       "    <tr>\n",
       "      <th>4</th>\n",
       "      <td>Beslen</td>\n",
       "      <td>43</td>\n",
       "      <td>8</td>\n",
       "      <td>528</td>\n",
       "      <td>22</td>\n",
       "      <td>2</td>\n",
       "      <td>0</td>\n",
       "      <td>0.862031</td>\n",
       "    </tr>\n",
       "  </tbody>\n",
       "</table>\n",
       "</div>"
      ],
      "text/plain": [
       "        States  Health_indeces1  Health_indices2  Per_capita_income    GDP  \\\n",
       "0      Bachevo              417               66                564   1823   \n",
       "1  Balgarchevo             1485              646               2710  73662   \n",
       "2    Belasitsa              654              299               1104  27318   \n",
       "3    Belo_Pole              192               25                573    250   \n",
       "4       Beslen               43                8                528     22   \n",
       "\n",
       "   H_Clusters  KMeans_Clus  sil_width  \n",
       "0           2            0   0.878852  \n",
       "1           3            1   0.429639  \n",
       "2           2            0   0.690607  \n",
       "3           2            0   0.876148  \n",
       "4           2            0   0.862031  "
      ]
     },
     "execution_count": 30,
     "metadata": {},
     "output_type": "execute_result"
    }
   ],
   "source": [
    "df[\"sil_width\"] = sil_width\n",
    "df.head(5)"
   ]
  },
  {
   "cell_type": "markdown",
   "id": "b01b2420",
   "metadata": {},
   "source": [
    "## 1.5. Describe cluster profiles for the clusters defined. Recommend different priority based actions that need to be taken for different clusters on the bases of their vulnerability situations according to their Economic and Health Conditions."
   ]
  },
  {
   "cell_type": "code",
   "execution_count": 31,
   "id": "1712af90",
   "metadata": {},
   "outputs": [
    {
     "data": {
      "text/html": [
       "<div>\n",
       "<style scoped>\n",
       "    .dataframe tbody tr th:only-of-type {\n",
       "        vertical-align: middle;\n",
       "    }\n",
       "\n",
       "    .dataframe tbody tr th {\n",
       "        vertical-align: top;\n",
       "    }\n",
       "\n",
       "    .dataframe thead th {\n",
       "        text-align: right;\n",
       "    }\n",
       "</style>\n",
       "<table border=\"1\" class=\"dataframe\">\n",
       "  <thead>\n",
       "    <tr style=\"text-align: right;\">\n",
       "      <th>H_Clusters</th>\n",
       "      <th>1</th>\n",
       "      <th>2</th>\n",
       "      <th>3</th>\n",
       "    </tr>\n",
       "  </thead>\n",
       "  <tbody>\n",
       "    <tr>\n",
       "      <th>Health_indeces1</th>\n",
       "      <td>4923.545455</td>\n",
       "      <td>401.063158</td>\n",
       "      <td>2481.776699</td>\n",
       "    </tr>\n",
       "    <tr>\n",
       "      <th>Health_indices2</th>\n",
       "      <td>1201.646465</td>\n",
       "      <td>104.536842</td>\n",
       "      <td>748.689320</td>\n",
       "    </tr>\n",
       "    <tr>\n",
       "      <th>Per_capita_income</th>\n",
       "      <td>3375.141414</td>\n",
       "      <td>680.673684</td>\n",
       "      <td>2347.582524</td>\n",
       "    </tr>\n",
       "    <tr>\n",
       "      <th>GDP</th>\n",
       "      <td>377132.474747</td>\n",
       "      <td>5388.768421</td>\n",
       "      <td>136004.699029</td>\n",
       "    </tr>\n",
       "  </tbody>\n",
       "</table>\n",
       "</div>"
      ],
      "text/plain": [
       "H_Clusters                     1            2              3\n",
       "Health_indeces1      4923.545455   401.063158    2481.776699\n",
       "Health_indices2      1201.646465   104.536842     748.689320\n",
       "Per_capita_income    3375.141414   680.673684    2347.582524\n",
       "GDP                377132.474747  5388.768421  136004.699029"
      ]
     },
     "execution_count": 31,
     "metadata": {},
     "output_type": "execute_result"
    }
   ],
   "source": [
    "Hierarchical_cluster_1 =  aggdata1.T\n",
    "Hierarchical_cluster_1"
   ]
  },
  {
   "cell_type": "code",
   "execution_count": 32,
   "id": "418ca596",
   "metadata": {},
   "outputs": [
    {
     "data": {
      "text/html": [
       "<div>\n",
       "<style scoped>\n",
       "    .dataframe tbody tr th:only-of-type {\n",
       "        vertical-align: middle;\n",
       "    }\n",
       "\n",
       "    .dataframe tbody tr th {\n",
       "        vertical-align: top;\n",
       "    }\n",
       "\n",
       "    .dataframe thead th {\n",
       "        text-align: right;\n",
       "    }\n",
       "</style>\n",
       "<table border=\"1\" class=\"dataframe\">\n",
       "  <thead>\n",
       "    <tr style=\"text-align: right;\">\n",
       "      <th>KMeans_Clus</th>\n",
       "      <th>0</th>\n",
       "      <th>1</th>\n",
       "      <th>2</th>\n",
       "    </tr>\n",
       "  </thead>\n",
       "  <tbody>\n",
       "    <tr>\n",
       "      <th>Health_indeces1</th>\n",
       "      <td>499.158416</td>\n",
       "      <td>2597.089109</td>\n",
       "      <td>4930.884211</td>\n",
       "    </tr>\n",
       "    <tr>\n",
       "      <th>Health_indices2</th>\n",
       "      <td>116.356436</td>\n",
       "      <td>783.019802</td>\n",
       "      <td>1212.336842</td>\n",
       "    </tr>\n",
       "    <tr>\n",
       "      <th>Per_capita_income</th>\n",
       "      <td>693.772277</td>\n",
       "      <td>2464.128713</td>\n",
       "      <td>3385.852632</td>\n",
       "    </tr>\n",
       "    <tr>\n",
       "      <th>GDP</th>\n",
       "      <td>9428.099010</td>\n",
       "      <td>141264.138614</td>\n",
       "      <td>385648.589474</td>\n",
       "    </tr>\n",
       "    <tr>\n",
       "      <th>H_Clusters</th>\n",
       "      <td>2.059406</td>\n",
       "      <td>2.920792</td>\n",
       "      <td>1.000000</td>\n",
       "    </tr>\n",
       "  </tbody>\n",
       "</table>\n",
       "</div>"
      ],
      "text/plain": [
       "KMeans_Clus                  0              1              2\n",
       "Health_indeces1     499.158416    2597.089109    4930.884211\n",
       "Health_indices2     116.356436     783.019802    1212.336842\n",
       "Per_capita_income   693.772277    2464.128713    3385.852632\n",
       "GDP                9428.099010  141264.138614  385648.589474\n",
       "H_Clusters            2.059406       2.920792       1.000000"
      ]
     },
     "execution_count": 32,
     "metadata": {},
     "output_type": "execute_result"
    }
   ],
   "source": [
    "Kmeans_cluster_2 =  aggdata2.T\n",
    "Kmeans_cluster_2"
   ]
  },
  {
   "cell_type": "markdown",
   "id": "f2950028",
   "metadata": {},
   "source": [
    "Here, we can see that both the techniques or models gives us the same result 3 clusters. This clusters represent the Groups in which the states belongs in hierarchical clustering we got a group of 1, 2 & 3 and in KNN we got a group of 0, 1 & 2\n",
    "\n",
    "#### Hierarchical clustering group :\n",
    "\n",
    "1st is the most Qualified or properly developed one. \n",
    "\n",
    "2nd one is the with the one which needs the most development.\n",
    "\n",
    "3rd one is the one which have a averagely developed health system.\n",
    "\n",
    "#### KNN Clustering :\n",
    "\n",
    "0th one is the one which needs the most development in their physical system.\n",
    "\n",
    "1st one is the average one which needs a tweaking in theirs physical system.\n",
    "\n",
    "2nd one have the most optimized physical system in theirs states.\n",
    "\n",
    "So, both groups are same its just that both have been made with different methods otherwise both give us the same result in terms of insights and helps us making decision acoording to it.\n",
    "\n",
    "## Suggetion : (Just for explanation purposes)\n",
    "\n",
    "##### Group 1: (Taking as a group which is not so developed one)\n",
    " \n",
    "1.This should be our first priority as the health system over here is not so good.\n",
    "\n",
    "2.Here, the the population doesnt have a healthy health index as we can derive from the data.\n",
    "\n",
    "3.We can also see the per capita income and GDP is also not good in these states so financial support could also be provided to \n",
    "these cities as this xcan also be a good factor of not so good physical system.\n",
    "\n",
    "4.People with not a good income will be capable to get them check up in an hospital.\n",
    "\n",
    "5.Government should direct most of their workforce over these states as the people here are poor and not have the capability to pay their bill whether its in health field or any other field.\n",
    "\n",
    "6.We can say that most of the people here are sick and are poor.\n",
    "\n",
    "7.We have to do an all round development in these states as they are in a very bad condition financially wise as well and physical condition wise as well.\n",
    "\n",
    "##### Group 2: (Taking as the average group)\n",
    "\n",
    "1.These states also need attention of the government as their physical health and financial health is decent but not good enough.\n",
    "\n",
    "2.These states should be our 2nd priority on the scale of development.\n",
    "\n",
    "3.These states have quite a decent system and financially also its quite decnet but we have to work in these states as well because its not up to the mark because people are still getting sick and are not financially sound.\n",
    "\n",
    "4.We have to develop both the condition of the people over here physically as well and financially as well in this way we can minimize the risk factors and the problems faced by the people.\n",
    "\n",
    "5.To improve the system over here we have to apply our workforce over these states as well so that the problem can be solved.\n",
    "\n",
    "##### Group 3: (Taking as the most stable group)\n",
    "1.Here, we dont need to take any serious measure as here the population have proper health system and are financially sound \n",
    "\n",
    "2.Here, incase if some problem is there we need some tweaking in the system.\n",
    "\n",
    "3.Population in these states are facing serious problems regarding Health and finance.\n",
    "\n",
    "4.Here, all round development have already been done.\n",
    "  "
   ]
  },
  {
   "cell_type": "markdown",
   "id": "382cc9d7",
   "metadata": {},
   "source": [
    "## Problem 2: CART-RF-ANN\n",
    "Mortality Outcomes for Females Suffering Myocardial Infarction\n",
    "The mifem data frame has 1295 rows and 10 columns. This is a Dataset of females having\n",
    "coronary heart disease (CHD). you have to predict with the given information whether the female is dead or alive so as to discover important factors that should be considered crucial in the treatment of the disease. Use CART, RF & ANN, and compare the models' performances in train and test sets.\n",
    "\n",
    "#### Dataset for Problem 2: mifem.csv\n",
    "\n",
    "## Data Dictionary for mifem.csv :\n",
    "1. Outcome: mortality outcome: a factor with levels live, dead\n",
    "2. Age: age at onset\n",
    "3. Yronset: year of onset (The year of onset is the year on which an individual acquires,\n",
    "develops, or first experiences a condition or symptoms of a disease or disorder)\n",
    "4. Premi: previous myocardial infarction event, a factor with levels y, n, nk not known\n",
    "5. Smstat: smoking status, a factor with levels c current, x ex-smoker, n non-smoker, nk not\n",
    "known\n",
    "6. Diabetes: a factor with levels y, n, nk not known\n",
    "7. Highbp: high blood pressure, a factor with levels y, n, nk not known\n",
    "8. Hichol: high cholesterol, a factor with levels y, n for yes and no\n",
    "9. Angina: a factor with levels y, n, nk not known\n",
    "10. Stroke: a factor with levels y, n, nk not known\n",
    "\n"
   ]
  },
  {
   "cell_type": "markdown",
   "id": "ccae9edd",
   "metadata": {},
   "source": [
    "## 2.1. Data Ingestion: Read the dataset. Do the descriptive statistics and do null value condition. \n",
    "#### check, write an inference on it.\n"
   ]
  },
  {
   "cell_type": "code",
   "execution_count": 33,
   "id": "9978ce03",
   "metadata": {},
   "outputs": [
    {
     "data": {
      "text/html": [
       "<div>\n",
       "<style scoped>\n",
       "    .dataframe tbody tr th:only-of-type {\n",
       "        vertical-align: middle;\n",
       "    }\n",
       "\n",
       "    .dataframe tbody tr th {\n",
       "        vertical-align: top;\n",
       "    }\n",
       "\n",
       "    .dataframe thead th {\n",
       "        text-align: right;\n",
       "    }\n",
       "</style>\n",
       "<table border=\"1\" class=\"dataframe\">\n",
       "  <thead>\n",
       "    <tr style=\"text-align: right;\">\n",
       "      <th></th>\n",
       "      <th>Unnamed: 0</th>\n",
       "      <th>Unnamed: 0.1</th>\n",
       "      <th>outcome</th>\n",
       "      <th>age</th>\n",
       "      <th>yronset</th>\n",
       "      <th>premi</th>\n",
       "      <th>smstat</th>\n",
       "      <th>diabetes</th>\n",
       "      <th>highbp</th>\n",
       "      <th>hichol</th>\n",
       "      <th>angina</th>\n",
       "      <th>stroke</th>\n",
       "    </tr>\n",
       "  </thead>\n",
       "  <tbody>\n",
       "    <tr>\n",
       "      <th>0</th>\n",
       "      <td>0</td>\n",
       "      <td>1</td>\n",
       "      <td>live</td>\n",
       "      <td>63</td>\n",
       "      <td>85</td>\n",
       "      <td>n</td>\n",
       "      <td>x</td>\n",
       "      <td>n</td>\n",
       "      <td>y</td>\n",
       "      <td>y</td>\n",
       "      <td>n</td>\n",
       "      <td>n</td>\n",
       "    </tr>\n",
       "    <tr>\n",
       "      <th>1</th>\n",
       "      <td>1</td>\n",
       "      <td>6</td>\n",
       "      <td>live</td>\n",
       "      <td>55</td>\n",
       "      <td>85</td>\n",
       "      <td>n</td>\n",
       "      <td>c</td>\n",
       "      <td>n</td>\n",
       "      <td>y</td>\n",
       "      <td>y</td>\n",
       "      <td>n</td>\n",
       "      <td>n</td>\n",
       "    </tr>\n",
       "    <tr>\n",
       "      <th>2</th>\n",
       "      <td>2</td>\n",
       "      <td>8</td>\n",
       "      <td>live</td>\n",
       "      <td>68</td>\n",
       "      <td>85</td>\n",
       "      <td>y</td>\n",
       "      <td>nk</td>\n",
       "      <td>nk</td>\n",
       "      <td>y</td>\n",
       "      <td>y</td>\n",
       "      <td>y</td>\n",
       "      <td>n</td>\n",
       "    </tr>\n",
       "    <tr>\n",
       "      <th>3</th>\n",
       "      <td>3</td>\n",
       "      <td>10</td>\n",
       "      <td>live</td>\n",
       "      <td>64</td>\n",
       "      <td>85</td>\n",
       "      <td>n</td>\n",
       "      <td>x</td>\n",
       "      <td>n</td>\n",
       "      <td>y</td>\n",
       "      <td>n</td>\n",
       "      <td>y</td>\n",
       "      <td>n</td>\n",
       "    </tr>\n",
       "    <tr>\n",
       "      <th>4</th>\n",
       "      <td>4</td>\n",
       "      <td>11</td>\n",
       "      <td>dead</td>\n",
       "      <td>67</td>\n",
       "      <td>85</td>\n",
       "      <td>n</td>\n",
       "      <td>nk</td>\n",
       "      <td>nk</td>\n",
       "      <td>nk</td>\n",
       "      <td>y</td>\n",
       "      <td>nk</td>\n",
       "      <td>nk</td>\n",
       "    </tr>\n",
       "  </tbody>\n",
       "</table>\n",
       "</div>"
      ],
      "text/plain": [
       "   Unnamed: 0  Unnamed: 0.1 outcome  age  yronset premi smstat diabetes  \\\n",
       "0           0             1    live   63       85     n      x        n   \n",
       "1           1             6    live   55       85     n      c        n   \n",
       "2           2             8    live   68       85     y     nk       nk   \n",
       "3           3            10    live   64       85     n      x        n   \n",
       "4           4            11    dead   67       85     n     nk       nk   \n",
       "\n",
       "  highbp hichol angina stroke  \n",
       "0      y      y      n      n  \n",
       "1      y      y      n      n  \n",
       "2      y      y      y      n  \n",
       "3      y      n      y      n  \n",
       "4     nk      y     nk     nk  "
      ]
     },
     "execution_count": 33,
     "metadata": {},
     "output_type": "execute_result"
    }
   ],
   "source": [
    "chd = pd.read_csv('Downloads/mifem-1 (3).csv')\n",
    "chd.head()"
   ]
  },
  {
   "cell_type": "code",
   "execution_count": 34,
   "id": "9006fe5a",
   "metadata": {},
   "outputs": [
    {
     "data": {
      "text/html": [
       "<div>\n",
       "<style scoped>\n",
       "    .dataframe tbody tr th:only-of-type {\n",
       "        vertical-align: middle;\n",
       "    }\n",
       "\n",
       "    .dataframe tbody tr th {\n",
       "        vertical-align: top;\n",
       "    }\n",
       "\n",
       "    .dataframe thead th {\n",
       "        text-align: right;\n",
       "    }\n",
       "</style>\n",
       "<table border=\"1\" class=\"dataframe\">\n",
       "  <thead>\n",
       "    <tr style=\"text-align: right;\">\n",
       "      <th></th>\n",
       "      <th>outcome</th>\n",
       "      <th>age</th>\n",
       "      <th>yronset</th>\n",
       "      <th>premi</th>\n",
       "      <th>smstat</th>\n",
       "      <th>diabetes</th>\n",
       "      <th>highbp</th>\n",
       "      <th>hichol</th>\n",
       "      <th>angina</th>\n",
       "      <th>stroke</th>\n",
       "    </tr>\n",
       "  </thead>\n",
       "  <tbody>\n",
       "    <tr>\n",
       "      <th>0</th>\n",
       "      <td>live</td>\n",
       "      <td>63</td>\n",
       "      <td>85</td>\n",
       "      <td>n</td>\n",
       "      <td>x</td>\n",
       "      <td>n</td>\n",
       "      <td>y</td>\n",
       "      <td>y</td>\n",
       "      <td>n</td>\n",
       "      <td>n</td>\n",
       "    </tr>\n",
       "    <tr>\n",
       "      <th>1</th>\n",
       "      <td>live</td>\n",
       "      <td>55</td>\n",
       "      <td>85</td>\n",
       "      <td>n</td>\n",
       "      <td>c</td>\n",
       "      <td>n</td>\n",
       "      <td>y</td>\n",
       "      <td>y</td>\n",
       "      <td>n</td>\n",
       "      <td>n</td>\n",
       "    </tr>\n",
       "    <tr>\n",
       "      <th>2</th>\n",
       "      <td>live</td>\n",
       "      <td>68</td>\n",
       "      <td>85</td>\n",
       "      <td>y</td>\n",
       "      <td>nk</td>\n",
       "      <td>nk</td>\n",
       "      <td>y</td>\n",
       "      <td>y</td>\n",
       "      <td>y</td>\n",
       "      <td>n</td>\n",
       "    </tr>\n",
       "    <tr>\n",
       "      <th>3</th>\n",
       "      <td>live</td>\n",
       "      <td>64</td>\n",
       "      <td>85</td>\n",
       "      <td>n</td>\n",
       "      <td>x</td>\n",
       "      <td>n</td>\n",
       "      <td>y</td>\n",
       "      <td>n</td>\n",
       "      <td>y</td>\n",
       "      <td>n</td>\n",
       "    </tr>\n",
       "    <tr>\n",
       "      <th>4</th>\n",
       "      <td>dead</td>\n",
       "      <td>67</td>\n",
       "      <td>85</td>\n",
       "      <td>n</td>\n",
       "      <td>nk</td>\n",
       "      <td>nk</td>\n",
       "      <td>nk</td>\n",
       "      <td>y</td>\n",
       "      <td>nk</td>\n",
       "      <td>nk</td>\n",
       "    </tr>\n",
       "  </tbody>\n",
       "</table>\n",
       "</div>"
      ],
      "text/plain": [
       "  outcome  age  yronset premi smstat diabetes highbp hichol angina stroke\n",
       "0    live   63       85     n      x        n      y      y      n      n\n",
       "1    live   55       85     n      c        n      y      y      n      n\n",
       "2    live   68       85     y     nk       nk      y      y      y      n\n",
       "3    live   64       85     n      x        n      y      n      y      n\n",
       "4    dead   67       85     n     nk       nk     nk      y     nk     nk"
      ]
     },
     "execution_count": 34,
     "metadata": {},
     "output_type": "execute_result"
    }
   ],
   "source": [
    "chd.drop(['Unnamed: 0','Unnamed: 0.1'], axis = 1, inplace = True)\n",
    "chd.head()"
   ]
  },
  {
   "cell_type": "code",
   "execution_count": 35,
   "id": "362cda91",
   "metadata": {},
   "outputs": [
    {
     "data": {
      "text/html": [
       "<div>\n",
       "<style scoped>\n",
       "    .dataframe tbody tr th:only-of-type {\n",
       "        vertical-align: middle;\n",
       "    }\n",
       "\n",
       "    .dataframe tbody tr th {\n",
       "        vertical-align: top;\n",
       "    }\n",
       "\n",
       "    .dataframe thead th {\n",
       "        text-align: right;\n",
       "    }\n",
       "</style>\n",
       "<table border=\"1\" class=\"dataframe\">\n",
       "  <thead>\n",
       "    <tr style=\"text-align: right;\">\n",
       "      <th></th>\n",
       "      <th>count</th>\n",
       "      <th>mean</th>\n",
       "      <th>std</th>\n",
       "      <th>min</th>\n",
       "      <th>25%</th>\n",
       "      <th>50%</th>\n",
       "      <th>75%</th>\n",
       "      <th>max</th>\n",
       "    </tr>\n",
       "  </thead>\n",
       "  <tbody>\n",
       "    <tr>\n",
       "      <th>age</th>\n",
       "      <td>1295.0</td>\n",
       "      <td>60.922008</td>\n",
       "      <td>7.042327</td>\n",
       "      <td>35.0</td>\n",
       "      <td>57.0</td>\n",
       "      <td>63.0</td>\n",
       "      <td>66.0</td>\n",
       "      <td>69.0</td>\n",
       "    </tr>\n",
       "    <tr>\n",
       "      <th>yronset</th>\n",
       "      <td>1295.0</td>\n",
       "      <td>88.785328</td>\n",
       "      <td>2.553647</td>\n",
       "      <td>85.0</td>\n",
       "      <td>87.0</td>\n",
       "      <td>89.0</td>\n",
       "      <td>91.0</td>\n",
       "      <td>93.0</td>\n",
       "    </tr>\n",
       "  </tbody>\n",
       "</table>\n",
       "</div>"
      ],
      "text/plain": [
       "          count       mean       std   min   25%   50%   75%   max\n",
       "age      1295.0  60.922008  7.042327  35.0  57.0  63.0  66.0  69.0\n",
       "yronset  1295.0  88.785328  2.553647  85.0  87.0  89.0  91.0  93.0"
      ]
     },
     "execution_count": 35,
     "metadata": {},
     "output_type": "execute_result"
    }
   ],
   "source": [
    "chd.iloc[:,1:3].describe().T"
   ]
  },
  {
   "cell_type": "markdown",
   "id": "f145a156",
   "metadata": {},
   "source": [
    "Here, as we can see in the table only two variables have numeric value thats why i have only described those two variables and the other variables are categorical which will converted into numeric form in further process."
   ]
  },
  {
   "cell_type": "code",
   "execution_count": 36,
   "id": "c3ca2cef",
   "metadata": {},
   "outputs": [
    {
     "name": "stdout",
     "output_type": "stream",
     "text": [
      "<class 'pandas.core.frame.DataFrame'>\n",
      "RangeIndex: 1295 entries, 0 to 1294\n",
      "Data columns (total 10 columns):\n",
      " #   Column    Non-Null Count  Dtype \n",
      "---  ------    --------------  ----- \n",
      " 0   outcome   1295 non-null   object\n",
      " 1   age       1295 non-null   int64 \n",
      " 2   yronset   1295 non-null   int64 \n",
      " 3   premi     1295 non-null   object\n",
      " 4   smstat    1295 non-null   object\n",
      " 5   diabetes  1295 non-null   object\n",
      " 6   highbp    1295 non-null   object\n",
      " 7   hichol    1295 non-null   object\n",
      " 8   angina    1295 non-null   object\n",
      " 9   stroke    1295 non-null   object\n",
      "dtypes: int64(2), object(8)\n",
      "memory usage: 101.3+ KB\n"
     ]
    }
   ],
   "source": [
    "chd.info()"
   ]
  },
  {
   "cell_type": "code",
   "execution_count": 37,
   "id": "348cf266",
   "metadata": {},
   "outputs": [
    {
     "data": {
      "text/plain": [
       "75"
      ]
     },
     "execution_count": 37,
     "metadata": {},
     "output_type": "execute_result"
    }
   ],
   "source": [
    "chd.duplicated().sum()"
   ]
  },
  {
   "cell_type": "code",
   "execution_count": 38,
   "id": "c2447e5d",
   "metadata": {},
   "outputs": [
    {
     "data": {
      "text/html": [
       "<div>\n",
       "<style scoped>\n",
       "    .dataframe tbody tr th:only-of-type {\n",
       "        vertical-align: middle;\n",
       "    }\n",
       "\n",
       "    .dataframe tbody tr th {\n",
       "        vertical-align: top;\n",
       "    }\n",
       "\n",
       "    .dataframe thead th {\n",
       "        text-align: right;\n",
       "    }\n",
       "</style>\n",
       "<table border=\"1\" class=\"dataframe\">\n",
       "  <thead>\n",
       "    <tr style=\"text-align: right;\">\n",
       "      <th></th>\n",
       "      <th>outcome</th>\n",
       "      <th>age</th>\n",
       "      <th>yronset</th>\n",
       "      <th>premi</th>\n",
       "      <th>smstat</th>\n",
       "      <th>diabetes</th>\n",
       "      <th>highbp</th>\n",
       "      <th>hichol</th>\n",
       "      <th>angina</th>\n",
       "      <th>stroke</th>\n",
       "    </tr>\n",
       "  </thead>\n",
       "  <tbody>\n",
       "    <tr>\n",
       "      <th>46</th>\n",
       "      <td>live</td>\n",
       "      <td>56</td>\n",
       "      <td>85</td>\n",
       "      <td>n</td>\n",
       "      <td>n</td>\n",
       "      <td>n</td>\n",
       "      <td>y</td>\n",
       "      <td>y</td>\n",
       "      <td>y</td>\n",
       "      <td>n</td>\n",
       "    </tr>\n",
       "    <tr>\n",
       "      <th>66</th>\n",
       "      <td>dead</td>\n",
       "      <td>69</td>\n",
       "      <td>85</td>\n",
       "      <td>nk</td>\n",
       "      <td>nk</td>\n",
       "      <td>nk</td>\n",
       "      <td>nk</td>\n",
       "      <td>y</td>\n",
       "      <td>nk</td>\n",
       "      <td>nk</td>\n",
       "    </tr>\n",
       "    <tr>\n",
       "      <th>68</th>\n",
       "      <td>live</td>\n",
       "      <td>64</td>\n",
       "      <td>85</td>\n",
       "      <td>n</td>\n",
       "      <td>x</td>\n",
       "      <td>n</td>\n",
       "      <td>y</td>\n",
       "      <td>n</td>\n",
       "      <td>y</td>\n",
       "      <td>n</td>\n",
       "    </tr>\n",
       "    <tr>\n",
       "      <th>70</th>\n",
       "      <td>live</td>\n",
       "      <td>57</td>\n",
       "      <td>85</td>\n",
       "      <td>n</td>\n",
       "      <td>c</td>\n",
       "      <td>n</td>\n",
       "      <td>n</td>\n",
       "      <td>n</td>\n",
       "      <td>n</td>\n",
       "      <td>n</td>\n",
       "    </tr>\n",
       "    <tr>\n",
       "      <th>73</th>\n",
       "      <td>live</td>\n",
       "      <td>66</td>\n",
       "      <td>85</td>\n",
       "      <td>n</td>\n",
       "      <td>n</td>\n",
       "      <td>n</td>\n",
       "      <td>y</td>\n",
       "      <td>n</td>\n",
       "      <td>n</td>\n",
       "      <td>n</td>\n",
       "    </tr>\n",
       "    <tr>\n",
       "      <th>...</th>\n",
       "      <td>...</td>\n",
       "      <td>...</td>\n",
       "      <td>...</td>\n",
       "      <td>...</td>\n",
       "      <td>...</td>\n",
       "      <td>...</td>\n",
       "      <td>...</td>\n",
       "      <td>...</td>\n",
       "      <td>...</td>\n",
       "      <td>...</td>\n",
       "    </tr>\n",
       "    <tr>\n",
       "      <th>1273</th>\n",
       "      <td>live</td>\n",
       "      <td>66</td>\n",
       "      <td>93</td>\n",
       "      <td>n</td>\n",
       "      <td>n</td>\n",
       "      <td>n</td>\n",
       "      <td>y</td>\n",
       "      <td>y</td>\n",
       "      <td>n</td>\n",
       "      <td>n</td>\n",
       "    </tr>\n",
       "    <tr>\n",
       "      <th>1278</th>\n",
       "      <td>live</td>\n",
       "      <td>65</td>\n",
       "      <td>93</td>\n",
       "      <td>n</td>\n",
       "      <td>c</td>\n",
       "      <td>n</td>\n",
       "      <td>n</td>\n",
       "      <td>y</td>\n",
       "      <td>n</td>\n",
       "      <td>n</td>\n",
       "    </tr>\n",
       "    <tr>\n",
       "      <th>1283</th>\n",
       "      <td>live</td>\n",
       "      <td>66</td>\n",
       "      <td>93</td>\n",
       "      <td>n</td>\n",
       "      <td>n</td>\n",
       "      <td>n</td>\n",
       "      <td>y</td>\n",
       "      <td>y</td>\n",
       "      <td>n</td>\n",
       "      <td>n</td>\n",
       "    </tr>\n",
       "    <tr>\n",
       "      <th>1285</th>\n",
       "      <td>live</td>\n",
       "      <td>65</td>\n",
       "      <td>93</td>\n",
       "      <td>n</td>\n",
       "      <td>x</td>\n",
       "      <td>n</td>\n",
       "      <td>n</td>\n",
       "      <td>n</td>\n",
       "      <td>n</td>\n",
       "      <td>n</td>\n",
       "    </tr>\n",
       "    <tr>\n",
       "      <th>1289</th>\n",
       "      <td>live</td>\n",
       "      <td>65</td>\n",
       "      <td>93</td>\n",
       "      <td>n</td>\n",
       "      <td>n</td>\n",
       "      <td>n</td>\n",
       "      <td>y</td>\n",
       "      <td>n</td>\n",
       "      <td>n</td>\n",
       "      <td>n</td>\n",
       "    </tr>\n",
       "  </tbody>\n",
       "</table>\n",
       "<p>75 rows × 10 columns</p>\n",
       "</div>"
      ],
      "text/plain": [
       "     outcome  age  yronset premi smstat diabetes highbp hichol angina stroke\n",
       "46      live   56       85     n      n        n      y      y      y      n\n",
       "66      dead   69       85    nk     nk       nk     nk      y     nk     nk\n",
       "68      live   64       85     n      x        n      y      n      y      n\n",
       "70      live   57       85     n      c        n      n      n      n      n\n",
       "73      live   66       85     n      n        n      y      n      n      n\n",
       "...      ...  ...      ...   ...    ...      ...    ...    ...    ...    ...\n",
       "1273    live   66       93     n      n        n      y      y      n      n\n",
       "1278    live   65       93     n      c        n      n      y      n      n\n",
       "1283    live   66       93     n      n        n      y      y      n      n\n",
       "1285    live   65       93     n      x        n      n      n      n      n\n",
       "1289    live   65       93     n      n        n      y      n      n      n\n",
       "\n",
       "[75 rows x 10 columns]"
      ]
     },
     "execution_count": 38,
     "metadata": {},
     "output_type": "execute_result"
    }
   ],
   "source": [
    "chd[chd.iloc[:,0:11].duplicated() == True]"
   ]
  },
  {
   "cell_type": "code",
   "execution_count": 39,
   "id": "7b9d6411",
   "metadata": {},
   "outputs": [
    {
     "data": {
      "text/plain": [
       "outcome     0\n",
       "age         0\n",
       "yronset     0\n",
       "premi       0\n",
       "smstat      0\n",
       "diabetes    0\n",
       "highbp      0\n",
       "hichol      0\n",
       "angina      0\n",
       "stroke      0\n",
       "dtype: int64"
      ]
     },
     "execution_count": 39,
     "metadata": {},
     "output_type": "execute_result"
    }
   ],
   "source": [
    "chd.isnull().sum()"
   ]
  },
  {
   "cell_type": "markdown",
   "id": "35a34305",
   "metadata": {},
   "source": [
    "### OUTCOME (mortality outcome: a factor with levels live, dead)"
   ]
  },
  {
   "cell_type": "code",
   "execution_count": 40,
   "id": "55deaea0",
   "metadata": {},
   "outputs": [
    {
     "data": {
      "image/png": "[encoded data removed]",
      "text/plain": [
       "<Figure size 432x288 with 1 Axes>"
      ]
     },
     "metadata": {
      "needs_background": "light"
     },
     "output_type": "display_data"
    }
   ],
   "source": [
    "sns.countplot(data = chd, x = 'outcome');"
   ]
  },
  {
   "cell_type": "code",
   "execution_count": 41,
   "id": "3bbed91c",
   "metadata": {
    "scrolled": true
   },
   "outputs": [
    {
     "data": {
      "text/plain": [
       "live    974\n",
       "dead    321\n",
       "Name: outcome, dtype: int64"
      ]
     },
     "execution_count": 41,
     "metadata": {},
     "output_type": "execute_result"
    }
   ],
   "source": [
    "chd.outcome.value_counts()"
   ]
  },
  {
   "cell_type": "markdown",
   "id": "0f192b04",
   "metadata": {},
   "source": [
    "### AGE (age at onset)"
   ]
  },
  {
   "cell_type": "code",
   "execution_count": 42,
   "id": "d5676b2e",
   "metadata": {},
   "outputs": [
    {
     "data": {
      "image/png": "[encoded data removed]",
      "text/plain": [
       "<Figure size 1080x576 with 1 Axes>"
      ]
     },
     "metadata": {
      "needs_background": "light"
     },
     "output_type": "display_data"
    }
   ],
   "source": [
    "plt.figure(figsize =(15,8))\n",
    "sns.countplot(data = chd, x = 'age', hue = 'outcome');"
   ]
  },
  {
   "cell_type": "code",
   "execution_count": 43,
   "id": "dc2fa671",
   "metadata": {},
   "outputs": [
    {
     "data": {
      "text/html": [
       "<div>\n",
       "<style scoped>\n",
       "    .dataframe tbody tr th:only-of-type {\n",
       "        vertical-align: middle;\n",
       "    }\n",
       "\n",
       "    .dataframe tbody tr th {\n",
       "        vertical-align: top;\n",
       "    }\n",
       "\n",
       "    .dataframe thead th {\n",
       "        text-align: right;\n",
       "    }\n",
       "</style>\n",
       "<table border=\"1\" class=\"dataframe\">\n",
       "  <thead>\n",
       "    <tr style=\"text-align: right;\">\n",
       "      <th>age</th>\n",
       "      <th>35</th>\n",
       "      <th>36</th>\n",
       "      <th>38</th>\n",
       "      <th>39</th>\n",
       "      <th>40</th>\n",
       "      <th>41</th>\n",
       "      <th>42</th>\n",
       "      <th>43</th>\n",
       "      <th>44</th>\n",
       "      <th>45</th>\n",
       "      <th>...</th>\n",
       "      <th>61</th>\n",
       "      <th>62</th>\n",
       "      <th>63</th>\n",
       "      <th>64</th>\n",
       "      <th>65</th>\n",
       "      <th>66</th>\n",
       "      <th>67</th>\n",
       "      <th>68</th>\n",
       "      <th>69</th>\n",
       "      <th>All</th>\n",
       "    </tr>\n",
       "    <tr>\n",
       "      <th>outcome</th>\n",
       "      <th></th>\n",
       "      <th></th>\n",
       "      <th></th>\n",
       "      <th></th>\n",
       "      <th></th>\n",
       "      <th></th>\n",
       "      <th></th>\n",
       "      <th></th>\n",
       "      <th></th>\n",
       "      <th></th>\n",
       "      <th></th>\n",
       "      <th></th>\n",
       "      <th></th>\n",
       "      <th></th>\n",
       "      <th></th>\n",
       "      <th></th>\n",
       "      <th></th>\n",
       "      <th></th>\n",
       "      <th></th>\n",
       "      <th></th>\n",
       "      <th></th>\n",
       "    </tr>\n",
       "  </thead>\n",
       "  <tbody>\n",
       "    <tr>\n",
       "      <th>dead</th>\n",
       "      <td>0</td>\n",
       "      <td>0</td>\n",
       "      <td>1</td>\n",
       "      <td>1</td>\n",
       "      <td>0</td>\n",
       "      <td>1</td>\n",
       "      <td>0</td>\n",
       "      <td>2</td>\n",
       "      <td>0</td>\n",
       "      <td>2</td>\n",
       "      <td>...</td>\n",
       "      <td>20</td>\n",
       "      <td>19</td>\n",
       "      <td>21</td>\n",
       "      <td>27</td>\n",
       "      <td>24</td>\n",
       "      <td>31</td>\n",
       "      <td>31</td>\n",
       "      <td>32</td>\n",
       "      <td>29</td>\n",
       "      <td>321</td>\n",
       "    </tr>\n",
       "    <tr>\n",
       "      <th>live</th>\n",
       "      <td>3</td>\n",
       "      <td>2</td>\n",
       "      <td>5</td>\n",
       "      <td>4</td>\n",
       "      <td>3</td>\n",
       "      <td>4</td>\n",
       "      <td>4</td>\n",
       "      <td>8</td>\n",
       "      <td>10</td>\n",
       "      <td>10</td>\n",
       "      <td>...</td>\n",
       "      <td>52</td>\n",
       "      <td>54</td>\n",
       "      <td>63</td>\n",
       "      <td>64</td>\n",
       "      <td>69</td>\n",
       "      <td>70</td>\n",
       "      <td>63</td>\n",
       "      <td>64</td>\n",
       "      <td>82</td>\n",
       "      <td>974</td>\n",
       "    </tr>\n",
       "    <tr>\n",
       "      <th>All</th>\n",
       "      <td>3</td>\n",
       "      <td>2</td>\n",
       "      <td>6</td>\n",
       "      <td>5</td>\n",
       "      <td>3</td>\n",
       "      <td>5</td>\n",
       "      <td>4</td>\n",
       "      <td>10</td>\n",
       "      <td>10</td>\n",
       "      <td>12</td>\n",
       "      <td>...</td>\n",
       "      <td>72</td>\n",
       "      <td>73</td>\n",
       "      <td>84</td>\n",
       "      <td>91</td>\n",
       "      <td>93</td>\n",
       "      <td>101</td>\n",
       "      <td>94</td>\n",
       "      <td>96</td>\n",
       "      <td>111</td>\n",
       "      <td>1295</td>\n",
       "    </tr>\n",
       "  </tbody>\n",
       "</table>\n",
       "<p>3 rows × 35 columns</p>\n",
       "</div>"
      ],
      "text/plain": [
       "age      35  36  38  39  40  41  42  43  44  45  ...  61  62  63  64  65   66  \\\n",
       "outcome                                          ...                            \n",
       "dead      0   0   1   1   0   1   0   2   0   2  ...  20  19  21  27  24   31   \n",
       "live      3   2   5   4   3   4   4   8  10  10  ...  52  54  63  64  69   70   \n",
       "All       3   2   6   5   3   5   4  10  10  12  ...  72  73  84  91  93  101   \n",
       "\n",
       "age      67  68   69   All  \n",
       "outcome                     \n",
       "dead     31  32   29   321  \n",
       "live     63  64   82   974  \n",
       "All      94  96  111  1295  \n",
       "\n",
       "[3 rows x 35 columns]"
      ]
     },
     "execution_count": 43,
     "metadata": {},
     "output_type": "execute_result"
    }
   ],
   "source": [
    "pd.crosstab(index=chd[\"outcome\"], columns=chd[\"age\"], margins = True)"
   ]
  },
  {
   "cell_type": "markdown",
   "id": "aac130c1",
   "metadata": {},
   "source": [
    "1. In this we can see how many females lost their lives and how many lived in respect to their age. \n",
    "\n",
    "2. Total number of females are 321 who lost their life due to myocardial infarction.\n",
    "\n",
    "3. Total number of females are 974 who lived through this condition."
   ]
  },
  {
   "cell_type": "markdown",
   "id": "2afd888d",
   "metadata": {},
   "source": [
    "### YRONSET - year of onset (The year of onset is the year on which an individual acquires,develops, or first experiences a condition or symptoms of a disease or disorder)\n"
   ]
  },
  {
   "cell_type": "code",
   "execution_count": 44,
   "id": "13307c03",
   "metadata": {},
   "outputs": [
    {
     "data": {
      "image/png": "[encoded data removed]",
      "text/plain": [
       "<Figure size 432x288 with 1 Axes>"
      ]
     },
     "metadata": {
      "needs_background": "light"
     },
     "output_type": "display_data"
    }
   ],
   "source": [
    "sns.countplot(data = chd, x = 'yronset');"
   ]
  },
  {
   "cell_type": "code",
   "execution_count": 45,
   "id": "fd39257a",
   "metadata": {},
   "outputs": [
    {
     "data": {
      "text/plain": [
       "87    176\n",
       "89    160\n",
       "85    153\n",
       "86    150\n",
       "90    145\n",
       "93    141\n",
       "88    140\n",
       "91    123\n",
       "92    107\n",
       "Name: yronset, dtype: int64"
      ]
     },
     "execution_count": 45,
     "metadata": {},
     "output_type": "execute_result"
    }
   ],
   "source": [
    "chd.yronset.value_counts()"
   ]
  },
  {
   "cell_type": "code",
   "execution_count": 46,
   "id": "8e856282",
   "metadata": {},
   "outputs": [
    {
     "data": {
      "image/png": "[encoded data removed]",
      "text/plain": [
       "<Figure size 432x288 with 1 Axes>"
      ]
     },
     "metadata": {
      "needs_background": "light"
     },
     "output_type": "display_data"
    }
   ],
   "source": [
    "sns.countplot(data = chd, x = 'yronset', hue = 'outcome');"
   ]
  },
  {
   "cell_type": "code",
   "execution_count": 47,
   "id": "22df9d4b",
   "metadata": {},
   "outputs": [
    {
     "data": {
      "image/png": "[encoded data removed]",
      "text/plain": [
       "<Figure size 432x288 with 1 Axes>"
      ]
     },
     "metadata": {
      "needs_background": "light"
     },
     "output_type": "display_data"
    }
   ],
   "source": [
    "sns.boxplot(data = chd, x= 'yronset', y='age', hue = 'outcome');"
   ]
  },
  {
   "cell_type": "code",
   "execution_count": 48,
   "id": "3977dc6e",
   "metadata": {},
   "outputs": [
    {
     "data": {
      "text/html": [
       "<div>\n",
       "<style scoped>\n",
       "    .dataframe tbody tr th:only-of-type {\n",
       "        vertical-align: middle;\n",
       "    }\n",
       "\n",
       "    .dataframe tbody tr th {\n",
       "        vertical-align: top;\n",
       "    }\n",
       "\n",
       "    .dataframe thead th {\n",
       "        text-align: right;\n",
       "    }\n",
       "</style>\n",
       "<table border=\"1\" class=\"dataframe\">\n",
       "  <thead>\n",
       "    <tr style=\"text-align: right;\">\n",
       "      <th>yronset</th>\n",
       "      <th>85</th>\n",
       "      <th>86</th>\n",
       "      <th>87</th>\n",
       "      <th>88</th>\n",
       "      <th>89</th>\n",
       "      <th>90</th>\n",
       "      <th>91</th>\n",
       "      <th>92</th>\n",
       "      <th>93</th>\n",
       "      <th>All</th>\n",
       "    </tr>\n",
       "    <tr>\n",
       "      <th>outcome</th>\n",
       "      <th></th>\n",
       "      <th></th>\n",
       "      <th></th>\n",
       "      <th></th>\n",
       "      <th></th>\n",
       "      <th></th>\n",
       "      <th></th>\n",
       "      <th></th>\n",
       "      <th></th>\n",
       "      <th></th>\n",
       "    </tr>\n",
       "  </thead>\n",
       "  <tbody>\n",
       "    <tr>\n",
       "      <th>dead</th>\n",
       "      <td>54</td>\n",
       "      <td>41</td>\n",
       "      <td>35</td>\n",
       "      <td>39</td>\n",
       "      <td>41</td>\n",
       "      <td>39</td>\n",
       "      <td>25</td>\n",
       "      <td>22</td>\n",
       "      <td>25</td>\n",
       "      <td>321</td>\n",
       "    </tr>\n",
       "    <tr>\n",
       "      <th>live</th>\n",
       "      <td>99</td>\n",
       "      <td>109</td>\n",
       "      <td>141</td>\n",
       "      <td>101</td>\n",
       "      <td>119</td>\n",
       "      <td>106</td>\n",
       "      <td>98</td>\n",
       "      <td>85</td>\n",
       "      <td>116</td>\n",
       "      <td>974</td>\n",
       "    </tr>\n",
       "    <tr>\n",
       "      <th>All</th>\n",
       "      <td>153</td>\n",
       "      <td>150</td>\n",
       "      <td>176</td>\n",
       "      <td>140</td>\n",
       "      <td>160</td>\n",
       "      <td>145</td>\n",
       "      <td>123</td>\n",
       "      <td>107</td>\n",
       "      <td>141</td>\n",
       "      <td>1295</td>\n",
       "    </tr>\n",
       "  </tbody>\n",
       "</table>\n",
       "</div>"
      ],
      "text/plain": [
       "yronset   85   86   87   88   89   90   91   92   93   All\n",
       "outcome                                                   \n",
       "dead      54   41   35   39   41   39   25   22   25   321\n",
       "live      99  109  141  101  119  106   98   85  116   974\n",
       "All      153  150  176  140  160  145  123  107  141  1295"
      ]
     },
     "execution_count": 48,
     "metadata": {},
     "output_type": "execute_result"
    }
   ],
   "source": [
    "pd.crosstab(index=chd[\"outcome\"], columns=chd[\"yronset\"], margins = True)"
   ]
  },
  {
   "cell_type": "markdown",
   "id": "1feee1e7",
   "metadata": {},
   "source": [
    "1. In this we can see how many females suffering from myocardial infarction died and lived according to a particular year from the total females patients in a year.\n",
    "\n",
    "2. Total no of females here are 1295 from that 321 lost their lives and 974 survived through this condtion.\n",
    "\n",
    "3. Also we can see in year 85 from total of 153 patients 54 passed away and 99 lived. we can see this with all the years with respect to outcomes of every patient who is suffering from myocardial infarction."
   ]
  },
  {
   "cell_type": "markdown",
   "id": "6b64d1be",
   "metadata": {},
   "source": [
    "### PREMI (previous myocardial infarction event, a factor with levels y, n, nk not known)"
   ]
  },
  {
   "cell_type": "code",
   "execution_count": 49,
   "id": "40e5f0ec",
   "metadata": {},
   "outputs": [
    {
     "data": {
      "image/png": "[encoded data removed]",
      "text/plain": [
       "<Figure size 432x288 with 1 Axes>"
      ]
     },
     "metadata": {
      "needs_background": "light"
     },
     "output_type": "display_data"
    }
   ],
   "source": [
    "sns.countplot(data = chd, x = 'premi');"
   ]
  },
  {
   "cell_type": "code",
   "execution_count": 50,
   "id": "51079df9",
   "metadata": {},
   "outputs": [
    {
     "data": {
      "image/png": "[encoded data removed]",
      "text/plain": [
       "<Figure size 432x288 with 1 Axes>"
      ]
     },
     "metadata": {
      "needs_background": "light"
     },
     "output_type": "display_data"
    }
   ],
   "source": [
    "sns.boxplot(data = chd, x= 'premi' , y = 'age', hue = 'outcome');"
   ]
  },
  {
   "cell_type": "code",
   "execution_count": 51,
   "id": "50394598",
   "metadata": {},
   "outputs": [
    {
     "data": {
      "text/plain": [
       "n     928\n",
       "y     311\n",
       "nk     56\n",
       "Name: premi, dtype: int64"
      ]
     },
     "execution_count": 51,
     "metadata": {},
     "output_type": "execute_result"
    }
   ],
   "source": [
    "chd.premi.value_counts()"
   ]
  },
  {
   "cell_type": "markdown",
   "id": "5a851d8d",
   "metadata": {},
   "source": [
    "### SMSTAT (smoking status, a factor with levels c current, x ex-smoker, n non-smoker, nk not known)\n"
   ]
  },
  {
   "cell_type": "code",
   "execution_count": 52,
   "id": "886313d3",
   "metadata": {},
   "outputs": [
    {
     "data": {
      "image/png": "[encoded data removed]",
      "text/plain": [
       "<Figure size 432x288 with 1 Axes>"
      ]
     },
     "metadata": {
      "needs_background": "light"
     },
     "output_type": "display_data"
    }
   ],
   "source": [
    "sns.countplot(data= chd, x = 'smstat');"
   ]
  },
  {
   "cell_type": "code",
   "execution_count": 53,
   "id": "56b35b75",
   "metadata": {},
   "outputs": [
    {
     "data": {
      "image/png": "[encoded data removed]",
      "text/plain": [
       "<Figure size 432x288 with 1 Axes>"
      ]
     },
     "metadata": {
      "needs_background": "light"
     },
     "output_type": "display_data"
    }
   ],
   "source": [
    "sns.boxplot(data = chd, x= 'smstat', y = 'age', hue = 'outcome');"
   ]
  },
  {
   "cell_type": "code",
   "execution_count": 54,
   "id": "a9e39ce9",
   "metadata": {},
   "outputs": [
    {
     "data": {
      "text/plain": [
       "n     522\n",
       "c     390\n",
       "x     280\n",
       "nk    103\n",
       "Name: smstat, dtype: int64"
      ]
     },
     "execution_count": 54,
     "metadata": {},
     "output_type": "execute_result"
    }
   ],
   "source": [
    "chd.smstat.value_counts()"
   ]
  },
  {
   "cell_type": "markdown",
   "id": "40ad6dd8",
   "metadata": {},
   "source": [
    "### DIABETES (a factor with levels y, n, nk not known)"
   ]
  },
  {
   "cell_type": "code",
   "execution_count": 55,
   "id": "3d0f8fdd",
   "metadata": {},
   "outputs": [
    {
     "data": {
      "image/png": "[encoded data removed]",
      "text/plain": [
       "<Figure size 432x288 with 1 Axes>"
      ]
     },
     "metadata": {
      "needs_background": "light"
     },
     "output_type": "display_data"
    }
   ],
   "source": [
    "sns.countplot(data = chd, x = 'diabetes');"
   ]
  },
  {
   "cell_type": "code",
   "execution_count": 56,
   "id": "9a39803f",
   "metadata": {},
   "outputs": [
    {
     "data": {
      "image/png": "[encoded data removed]",
      "text/plain": [
       "<Figure size 432x288 with 1 Axes>"
      ]
     },
     "metadata": {
      "needs_background": "light"
     },
     "output_type": "display_data"
    }
   ],
   "source": [
    "sns.boxplot(data = chd, x= 'diabetes', y = 'age', hue = 'outcome');"
   ]
  },
  {
   "cell_type": "code",
   "execution_count": 57,
   "id": "5d8d0189",
   "metadata": {},
   "outputs": [
    {
     "data": {
      "text/plain": [
       "n     978\n",
       "y     248\n",
       "nk     69\n",
       "Name: diabetes, dtype: int64"
      ]
     },
     "execution_count": 57,
     "metadata": {},
     "output_type": "execute_result"
    }
   ],
   "source": [
    "chd.diabetes.value_counts()"
   ]
  },
  {
   "cell_type": "markdown",
   "id": "ccbd3aee",
   "metadata": {},
   "source": [
    "### HIGHBP (high blood pressure, a factor with levels y, n, nk not known)"
   ]
  },
  {
   "cell_type": "code",
   "execution_count": 58,
   "id": "b5ecce2a",
   "metadata": {},
   "outputs": [
    {
     "data": {
      "image/png": "[encoded data removed]",
      "text/plain": [
       "<Figure size 432x288 with 1 Axes>"
      ]
     },
     "metadata": {
      "needs_background": "light"
     },
     "output_type": "display_data"
    }
   ],
   "source": [
    "sns.countplot(data = chd, x= 'highbp');"
   ]
  },
  {
   "cell_type": "code",
   "execution_count": 59,
   "id": "345a663d",
   "metadata": {},
   "outputs": [
    {
     "data": {
      "text/plain": [
       "y     813\n",
       "n     406\n",
       "nk     76\n",
       "Name: highbp, dtype: int64"
      ]
     },
     "execution_count": 59,
     "metadata": {},
     "output_type": "execute_result"
    }
   ],
   "source": [
    "chd.highbp.value_counts()"
   ]
  },
  {
   "cell_type": "code",
   "execution_count": 60,
   "id": "7778b182",
   "metadata": {},
   "outputs": [
    {
     "data": {
      "image/png": "[encoded data removed]",
      "text/plain": [
       "<Figure size 432x288 with 1 Axes>"
      ]
     },
     "metadata": {
      "needs_background": "light"
     },
     "output_type": "display_data"
    }
   ],
   "source": [
    "sns.boxplot(data = chd, x= 'highbp', y = 'age', hue = 'outcome');"
   ]
  },
  {
   "cell_type": "markdown",
   "id": "3390494d",
   "metadata": {},
   "source": [
    "### HICHOL (high cholesterol, a factor with levels y, n for yes and no)"
   ]
  },
  {
   "cell_type": "code",
   "execution_count": 61,
   "id": "950fdd3d",
   "metadata": {},
   "outputs": [
    {
     "data": {
      "image/png": "[encoded data removed]",
      "text/plain": [
       "<Figure size 432x288 with 1 Axes>"
      ]
     },
     "metadata": {
      "needs_background": "light"
     },
     "output_type": "display_data"
    }
   ],
   "source": [
    "sns.countplot(data = chd, x = 'hichol');"
   ]
  },
  {
   "cell_type": "code",
   "execution_count": 62,
   "id": "d856ac9e",
   "metadata": {},
   "outputs": [
    {
     "data": {
      "text/plain": [
       "n    655\n",
       "y    640\n",
       "Name: hichol, dtype: int64"
      ]
     },
     "execution_count": 62,
     "metadata": {},
     "output_type": "execute_result"
    }
   ],
   "source": [
    "chd.hichol.value_counts()"
   ]
  },
  {
   "cell_type": "code",
   "execution_count": 63,
   "id": "f694ff4b",
   "metadata": {},
   "outputs": [
    {
     "data": {
      "image/png": "[encoded data removed]",
      "text/plain": [
       "<Figure size 432x288 with 1 Axes>"
      ]
     },
     "metadata": {
      "needs_background": "light"
     },
     "output_type": "display_data"
    }
   ],
   "source": [
    "sns.boxplot(data = chd, x= 'hichol', y = 'age', hue = 'outcome');"
   ]
  },
  {
   "cell_type": "markdown",
   "id": "1061880e",
   "metadata": {},
   "source": [
    "### ANGINA (a factor with levels y, n, nk not known)"
   ]
  },
  {
   "cell_type": "code",
   "execution_count": 64,
   "id": "a5866aa1",
   "metadata": {},
   "outputs": [
    {
     "data": {
      "image/png": "[encoded data removed]",
      "text/plain": [
       "<Figure size 432x288 with 1 Axes>"
      ]
     },
     "metadata": {
      "needs_background": "light"
     },
     "output_type": "display_data"
    }
   ],
   "source": [
    "sns.countplot(data =chd, x= 'angina');"
   ]
  },
  {
   "cell_type": "code",
   "execution_count": 65,
   "id": "8cb402d9",
   "metadata": {},
   "outputs": [
    {
     "data": {
      "text/plain": [
       "n     724\n",
       "y     472\n",
       "nk     99\n",
       "Name: angina, dtype: int64"
      ]
     },
     "execution_count": 65,
     "metadata": {},
     "output_type": "execute_result"
    }
   ],
   "source": [
    "chd.angina.value_counts()"
   ]
  },
  {
   "cell_type": "code",
   "execution_count": 66,
   "id": "9a3d69be",
   "metadata": {},
   "outputs": [
    {
     "data": {
      "image/png": "[encoded data removed]",
      "text/plain": [
       "<Figure size 432x288 with 1 Axes>"
      ]
     },
     "metadata": {
      "needs_background": "light"
     },
     "output_type": "display_data"
    }
   ],
   "source": [
    "sns.boxplot(data =chd, x='angina', y = 'age', hue = 'outcome');"
   ]
  },
  {
   "cell_type": "markdown",
   "id": "25eeeaf8",
   "metadata": {},
   "source": [
    "### STROKE (a factor with levels y, n, nk not known)"
   ]
  },
  {
   "cell_type": "code",
   "execution_count": 67,
   "id": "9c7b5453",
   "metadata": {},
   "outputs": [
    {
     "data": {
      "image/png": "[encoded data removed]",
      "text/plain": [
       "<Figure size 432x288 with 1 Axes>"
      ]
     },
     "metadata": {
      "needs_background": "light"
     },
     "output_type": "display_data"
    }
   ],
   "source": [
    "sns.countplot(data = chd, x= 'stroke');"
   ]
  },
  {
   "cell_type": "code",
   "execution_count": 68,
   "id": "c2db522c",
   "metadata": {},
   "outputs": [
    {
     "data": {
      "text/plain": [
       "n     1063\n",
       "y      153\n",
       "nk      79\n",
       "Name: stroke, dtype: int64"
      ]
     },
     "execution_count": 68,
     "metadata": {},
     "output_type": "execute_result"
    }
   ],
   "source": [
    "chd.stroke.value_counts()"
   ]
  },
  {
   "cell_type": "code",
   "execution_count": 69,
   "id": "867ad4c7",
   "metadata": {},
   "outputs": [
    {
     "data": {
      "image/png": "[encoded data removed]",
      "text/plain": [
       "<Figure size 432x288 with 1 Axes>"
      ]
     },
     "metadata": {
      "needs_background": "light"
     },
     "output_type": "display_data"
    }
   ],
   "source": [
    "sns.boxplot(data = chd, x = 'stroke', y = 'age', hue = 'outcome');"
   ]
  },
  {
   "cell_type": "markdown",
   "id": "dd8770e9",
   "metadata": {},
   "source": [
    "## 2.2. Encode the data (having string values) for Modelling. Data Split: Split the data into test and train, build classification model CART, Random Forest, Artificial Neural Network.\n"
   ]
  },
  {
   "cell_type": "code",
   "execution_count": 70,
   "id": "0c537a39",
   "metadata": {},
   "outputs": [
    {
     "name": "stdout",
     "output_type": "stream",
     "text": [
      "\n",
      "\n",
      "feature: outcome\n",
      "['live', 'dead']\n",
      "Categories (2, object): ['dead', 'live']\n",
      "[1 0]\n",
      "\n",
      "\n",
      "feature: premi\n",
      "['n', 'y', 'nk']\n",
      "Categories (3, object): ['n', 'nk', 'y']\n",
      "[0 2 1]\n",
      "\n",
      "\n",
      "feature: smstat\n",
      "['x', 'c', 'nk', 'n']\n",
      "Categories (4, object): ['c', 'n', 'nk', 'x']\n",
      "[3 0 2 1]\n",
      "\n",
      "\n",
      "feature: diabetes\n",
      "['n', 'nk', 'y']\n",
      "Categories (3, object): ['n', 'nk', 'y']\n",
      "[0 1 2]\n",
      "\n",
      "\n",
      "feature: highbp\n",
      "['y', 'nk', 'n']\n",
      "Categories (3, object): ['n', 'nk', 'y']\n",
      "[2 1 0]\n",
      "\n",
      "\n",
      "feature: hichol\n",
      "['y', 'n']\n",
      "Categories (2, object): ['n', 'y']\n",
      "[1 0]\n",
      "\n",
      "\n",
      "feature: angina\n",
      "['n', 'y', 'nk']\n",
      "Categories (3, object): ['n', 'nk', 'y']\n",
      "[0 2 1]\n",
      "\n",
      "\n",
      "feature: stroke\n",
      "['n', 'nk', 'y']\n",
      "Categories (3, object): ['n', 'nk', 'y']\n",
      "[0 1 2]\n"
     ]
    }
   ],
   "source": [
    "for feature in chd.columns: \n",
    "    if chd[feature].dtype == 'object': \n",
    "        print('\\n')\n",
    "        print('feature:',feature)\n",
    "        print(pd.Categorical(chd[feature].unique()))\n",
    "        print(pd.Categorical(chd[feature].unique()).codes)\n",
    "        chd[feature] = pd.Categorical(chd[feature]).codes"
   ]
  },
  {
   "cell_type": "code",
   "execution_count": 71,
   "id": "a19b5832",
   "metadata": {},
   "outputs": [
    {
     "name": "stdout",
     "output_type": "stream",
     "text": [
      "<class 'pandas.core.frame.DataFrame'>\n",
      "RangeIndex: 1295 entries, 0 to 1294\n",
      "Data columns (total 10 columns):\n",
      " #   Column    Non-Null Count  Dtype\n",
      "---  ------    --------------  -----\n",
      " 0   outcome   1295 non-null   int8 \n",
      " 1   age       1295 non-null   int64\n",
      " 2   yronset   1295 non-null   int64\n",
      " 3   premi     1295 non-null   int8 \n",
      " 4   smstat    1295 non-null   int8 \n",
      " 5   diabetes  1295 non-null   int8 \n",
      " 6   highbp    1295 non-null   int8 \n",
      " 7   hichol    1295 non-null   int8 \n",
      " 8   angina    1295 non-null   int8 \n",
      " 9   stroke    1295 non-null   int8 \n",
      "dtypes: int64(2), int8(8)\n",
      "memory usage: 30.5 KB\n"
     ]
    }
   ],
   "source": [
    "chd.info()"
   ]
  },
  {
   "cell_type": "code",
   "execution_count": 72,
   "id": "4202a0de",
   "metadata": {},
   "outputs": [
    {
     "data": {
      "text/html": [
       "<div>\n",
       "<style scoped>\n",
       "    .dataframe tbody tr th:only-of-type {\n",
       "        vertical-align: middle;\n",
       "    }\n",
       "\n",
       "    .dataframe tbody tr th {\n",
       "        vertical-align: top;\n",
       "    }\n",
       "\n",
       "    .dataframe thead th {\n",
       "        text-align: right;\n",
       "    }\n",
       "</style>\n",
       "<table border=\"1\" class=\"dataframe\">\n",
       "  <thead>\n",
       "    <tr style=\"text-align: right;\">\n",
       "      <th></th>\n",
       "      <th>outcome</th>\n",
       "      <th>age</th>\n",
       "      <th>yronset</th>\n",
       "      <th>premi</th>\n",
       "      <th>smstat</th>\n",
       "      <th>diabetes</th>\n",
       "      <th>highbp</th>\n",
       "      <th>hichol</th>\n",
       "      <th>angina</th>\n",
       "      <th>stroke</th>\n",
       "    </tr>\n",
       "  </thead>\n",
       "  <tbody>\n",
       "    <tr>\n",
       "      <th>0</th>\n",
       "      <td>1</td>\n",
       "      <td>63</td>\n",
       "      <td>85</td>\n",
       "      <td>0</td>\n",
       "      <td>3</td>\n",
       "      <td>0</td>\n",
       "      <td>2</td>\n",
       "      <td>1</td>\n",
       "      <td>0</td>\n",
       "      <td>0</td>\n",
       "    </tr>\n",
       "    <tr>\n",
       "      <th>1</th>\n",
       "      <td>1</td>\n",
       "      <td>55</td>\n",
       "      <td>85</td>\n",
       "      <td>0</td>\n",
       "      <td>0</td>\n",
       "      <td>0</td>\n",
       "      <td>2</td>\n",
       "      <td>1</td>\n",
       "      <td>0</td>\n",
       "      <td>0</td>\n",
       "    </tr>\n",
       "    <tr>\n",
       "      <th>2</th>\n",
       "      <td>1</td>\n",
       "      <td>68</td>\n",
       "      <td>85</td>\n",
       "      <td>2</td>\n",
       "      <td>2</td>\n",
       "      <td>1</td>\n",
       "      <td>2</td>\n",
       "      <td>1</td>\n",
       "      <td>2</td>\n",
       "      <td>0</td>\n",
       "    </tr>\n",
       "    <tr>\n",
       "      <th>3</th>\n",
       "      <td>1</td>\n",
       "      <td>64</td>\n",
       "      <td>85</td>\n",
       "      <td>0</td>\n",
       "      <td>3</td>\n",
       "      <td>0</td>\n",
       "      <td>2</td>\n",
       "      <td>0</td>\n",
       "      <td>2</td>\n",
       "      <td>0</td>\n",
       "    </tr>\n",
       "    <tr>\n",
       "      <th>4</th>\n",
       "      <td>0</td>\n",
       "      <td>67</td>\n",
       "      <td>85</td>\n",
       "      <td>0</td>\n",
       "      <td>2</td>\n",
       "      <td>1</td>\n",
       "      <td>1</td>\n",
       "      <td>1</td>\n",
       "      <td>1</td>\n",
       "      <td>1</td>\n",
       "    </tr>\n",
       "  </tbody>\n",
       "</table>\n",
       "</div>"
      ],
      "text/plain": [
       "   outcome  age  yronset  premi  smstat  diabetes  highbp  hichol  angina  \\\n",
       "0        1   63       85      0       3         0       2       1       0   \n",
       "1        1   55       85      0       0         0       2       1       0   \n",
       "2        1   68       85      2       2         1       2       1       2   \n",
       "3        1   64       85      0       3         0       2       0       2   \n",
       "4        0   67       85      0       2         1       1       1       1   \n",
       "\n",
       "   stroke  \n",
       "0       0  \n",
       "1       0  \n",
       "2       0  \n",
       "3       0  \n",
       "4       1  "
      ]
     },
     "execution_count": 72,
     "metadata": {},
     "output_type": "execute_result"
    }
   ],
   "source": [
    "chd.head()"
   ]
  },
  {
   "cell_type": "code",
   "execution_count": 74,
   "id": "8327ebcd",
   "metadata": {},
   "outputs": [],
   "source": [
    "X = chd.drop(\"outcome\", axis=1)\n",
    "\n",
    "y = chd.pop(\"outcome\")"
   ]
  },
  {
   "cell_type": "code",
   "execution_count": 75,
   "id": "5e4238d5",
   "metadata": {},
   "outputs": [],
   "source": [
    "X_train, X_test, train_labels, test_labels = train_test_split(X, y, test_size=.30, random_state=0)"
   ]
  },
  {
   "cell_type": "code",
   "execution_count": 76,
   "id": "f1ee137c",
   "metadata": {},
   "outputs": [
    {
     "name": "stdout",
     "output_type": "stream",
     "text": [
      "X_train (906, 9)\n",
      "X_test (389, 9)\n",
      "train_labels (906,)\n",
      "test_labels (389,)\n"
     ]
    }
   ],
   "source": [
    "print('X_train',X_train.shape)\n",
    "print('X_test',X_test.shape)\n",
    "print('train_labels',train_labels.shape)\n",
    "print('test_labels',test_labels.shape)"
   ]
  },
  {
   "cell_type": "markdown",
   "id": "de1a1b8e",
   "metadata": {},
   "source": [
    "## Decision Tree Classifier"
   ]
  },
  {
   "cell_type": "code",
   "execution_count": 102,
   "id": "6e955c2a",
   "metadata": {},
   "outputs": [],
   "source": [
    "param_grid = {\n",
    "    'max_depth': [0,1, 2, 5],\n",
    "    'min_samples_leaf': [0, 5, 10],\n",
    "    'min_samples_split': [0, 5 ,15]\n",
    "}\n",
    "\n",
    "dt_model = DecisionTreeClassifier()\n",
    "\n",
    "grid_search1 = GridSearchCV(estimator = dt_model, param_grid = param_grid, cv = 3)"
   ]
  },
  {
   "cell_type": "code",
   "execution_count": 103,
   "id": "b67a25c3",
   "metadata": {},
   "outputs": [
    {
     "data": {
      "text/html": [
       "<style>#sk-container-id-9 {color: black;background-color: white;}#sk-container-id-9 pre{padding: 0;}#sk-container-id-9 div.sk-toggleable {background-color: white;}#sk-container-id-9 label.sk-toggleable__label {cursor: pointer;display: block;width: 100%;margin-bottom: 0;padding: 0.3em;box-sizing: border-box;text-align: center;}#sk-container-id-9 label.sk-toggleable__label-arrow:before {content: \"▸\";float: left;margin-right: 0.25em;color: #696969;}#sk-container-id-9 label.sk-toggleable__label-arrow:hover:before {color: black;}#sk-container-id-9 div.sk-estimator:hover label.sk-toggleable__label-arrow:before {color: black;}#sk-container-id-9 div.sk-toggleable__content {max-height: 0;max-width: 0;overflow: hidden;text-align: left;background-color: #f0f8ff;}#sk-container-id-9 div.sk-toggleable__content pre {margin: 0.2em;color: black;border-radius: 0.25em;background-color: #f0f8ff;}#sk-container-id-9 input.sk-toggleable__control:checked~div.sk-toggleable__content {max-height: 200px;max-width: 100%;overflow: auto;}#sk-container-id-9 input.sk-toggleable__control:checked~label.sk-toggleable__label-arrow:before {content: \"▾\";}#sk-container-id-9 div.sk-estimator input.sk-toggleable__control:checked~label.sk-toggleable__label {background-color: #d4ebff;}#sk-container-id-9 div.sk-label input.sk-toggleable__control:checked~label.sk-toggleable__label {background-color: #d4ebff;}#sk-container-id-9 input.sk-hidden--visually {border: 0;clip: rect(1px 1px 1px 1px);clip: rect(1px, 1px, 1px, 1px);height: 1px;margin: -1px;overflow: hidden;padding: 0;position: absolute;width: 1px;}#sk-container-id-9 div.sk-estimator {font-family: monospace;background-color: #f0f8ff;border: 1px dotted black;border-radius: 0.25em;box-sizing: border-box;margin-bottom: 0.5em;}#sk-container-id-9 div.sk-estimator:hover {background-color: #d4ebff;}#sk-container-id-9 div.sk-parallel-item::after {content: \"\";width: 100%;border-bottom: 1px solid gray;flex-grow: 1;}#sk-container-id-9 div.sk-label:hover label.sk-toggleable__label {background-color: #d4ebff;}#sk-container-id-9 div.sk-serial::before {content: \"\";position: absolute;border-left: 1px solid gray;box-sizing: border-box;top: 0;bottom: 0;left: 50%;z-index: 0;}#sk-container-id-9 div.sk-serial {display: flex;flex-direction: column;align-items: center;background-color: white;padding-right: 0.2em;padding-left: 0.2em;position: relative;}#sk-container-id-9 div.sk-item {position: relative;z-index: 1;}#sk-container-id-9 div.sk-parallel {display: flex;align-items: stretch;justify-content: center;background-color: white;position: relative;}#sk-container-id-9 div.sk-item::before, #sk-container-id-9 div.sk-parallel-item::before {content: \"\";position: absolute;border-left: 1px solid gray;box-sizing: border-box;top: 0;bottom: 0;left: 50%;z-index: -1;}#sk-container-id-9 div.sk-parallel-item {display: flex;flex-direction: column;z-index: 1;position: relative;background-color: white;}#sk-container-id-9 div.sk-parallel-item:first-child::after {align-self: flex-end;width: 50%;}#sk-container-id-9 div.sk-parallel-item:last-child::after {align-self: flex-start;width: 50%;}#sk-container-id-9 div.sk-parallel-item:only-child::after {width: 0;}#sk-container-id-9 div.sk-dashed-wrapped {border: 1px dashed gray;margin: 0 0.4em 0.5em 0.4em;box-sizing: border-box;padding-bottom: 0.4em;background-color: white;}#sk-container-id-9 div.sk-label label {font-family: monospace;font-weight: bold;display: inline-block;line-height: 1.2em;}#sk-container-id-9 div.sk-label-container {text-align: center;}#sk-container-id-9 div.sk-container {/* jupyter's `normalize.less` sets `[hidden] { display: none; }` but bootstrap.min.css set `[hidden] { display: none !important; }` so we also need the `!important` here to be able to override the default hidden behavior on the sphinx rendered scikit-learn.org. See: https://github.com/scikit-learn/scikit-learn/issues/21755 */display: inline-block !important;position: relative;}#sk-container-id-9 div.sk-text-repr-fallback {display: none;}</style><div id=\"sk-container-id-9\" class=\"sk-top-container\"><div class=\"sk-text-repr-fallback\"><pre>GridSearchCV(cv=3, estimator=DecisionTreeClassifier(),\n",
       "             param_grid={&#x27;max_depth&#x27;: [0, 1, 2, 5],\n",
       "                         &#x27;min_samples_leaf&#x27;: [0, 5, 10],\n",
       "                         &#x27;min_samples_split&#x27;: [0, 5, 15]})</pre><b>In a Jupyter environment, please rerun this cell to show the HTML representation or trust the notebook. <br />On GitHub, the HTML representation is unable to render, please try loading this page with nbviewer.org.</b></div><div class=\"sk-container\" hidden><div class=\"sk-item sk-dashed-wrapped\"><div class=\"sk-label-container\"><div class=\"sk-label sk-toggleable\"><input class=\"sk-toggleable__control sk-hidden--visually\" id=\"sk-estimator-id-25\" type=\"checkbox\" ><label for=\"sk-estimator-id-25\" class=\"sk-toggleable__label sk-toggleable__label-arrow\">GridSearchCV</label><div class=\"sk-toggleable__content\"><pre>GridSearchCV(cv=3, estimator=DecisionTreeClassifier(),\n",
       "             param_grid={&#x27;max_depth&#x27;: [0, 1, 2, 5],\n",
       "                         &#x27;min_samples_leaf&#x27;: [0, 5, 10],\n",
       "                         &#x27;min_samples_split&#x27;: [0, 5, 15]})</pre></div></div></div><div class=\"sk-parallel\"><div class=\"sk-parallel-item\"><div class=\"sk-item\"><div class=\"sk-label-container\"><div class=\"sk-label sk-toggleable\"><input class=\"sk-toggleable__control sk-hidden--visually\" id=\"sk-estimator-id-26\" type=\"checkbox\" ><label for=\"sk-estimator-id-26\" class=\"sk-toggleable__label sk-toggleable__label-arrow\">estimator: DecisionTreeClassifier</label><div class=\"sk-toggleable__content\"><pre>DecisionTreeClassifier()</pre></div></div></div><div class=\"sk-serial\"><div class=\"sk-item\"><div class=\"sk-estimator sk-toggleable\"><input class=\"sk-toggleable__control sk-hidden--visually\" id=\"sk-estimator-id-27\" type=\"checkbox\" ><label for=\"sk-estimator-id-27\" class=\"sk-toggleable__label sk-toggleable__label-arrow\">DecisionTreeClassifier</label><div class=\"sk-toggleable__content\"><pre>DecisionTreeClassifier()</pre></div></div></div></div></div></div></div></div></div></div>"
      ],
      "text/plain": [
       "GridSearchCV(cv=3, estimator=DecisionTreeClassifier(),\n",
       "             param_grid={'max_depth': [0, 1, 2, 5],\n",
       "                         'min_samples_leaf': [0, 5, 10],\n",
       "                         'min_samples_split': [0, 5, 15]})"
      ]
     },
     "execution_count": 103,
     "metadata": {},
     "output_type": "execute_result"
    }
   ],
   "source": [
    "grid_search1.fit(X_train, train_labels)"
   ]
  },
  {
   "cell_type": "code",
   "execution_count": 104,
   "id": "fe95f68f",
   "metadata": {},
   "outputs": [
    {
     "data": {
      "text/plain": [
       "{'max_depth': 2, 'min_samples_leaf': 5, 'min_samples_split': 5}"
      ]
     },
     "execution_count": 104,
     "metadata": {},
     "output_type": "execute_result"
    }
   ],
   "source": [
    "grid_search1.best_params_"
   ]
  },
  {
   "cell_type": "code",
   "execution_count": 105,
   "id": "acf0e6d9",
   "metadata": {},
   "outputs": [
    {
     "data": {
      "text/html": [
       "<style>#sk-container-id-10 {color: black;background-color: white;}#sk-container-id-10 pre{padding: 0;}#sk-container-id-10 div.sk-toggleable {background-color: white;}#sk-container-id-10 label.sk-toggleable__label {cursor: pointer;display: block;width: 100%;margin-bottom: 0;padding: 0.3em;box-sizing: border-box;text-align: center;}#sk-container-id-10 label.sk-toggleable__label-arrow:before {content: \"▸\";float: left;margin-right: 0.25em;color: #696969;}#sk-container-id-10 label.sk-toggleable__label-arrow:hover:before {color: black;}#sk-container-id-10 div.sk-estimator:hover label.sk-toggleable__label-arrow:before {color: black;}#sk-container-id-10 div.sk-toggleable__content {max-height: 0;max-width: 0;overflow: hidden;text-align: left;background-color: #f0f8ff;}#sk-container-id-10 div.sk-toggleable__content pre {margin: 0.2em;color: black;border-radius: 0.25em;background-color: #f0f8ff;}#sk-container-id-10 input.sk-toggleable__control:checked~div.sk-toggleable__content {max-height: 200px;max-width: 100%;overflow: auto;}#sk-container-id-10 input.sk-toggleable__control:checked~label.sk-toggleable__label-arrow:before {content: \"▾\";}#sk-container-id-10 div.sk-estimator input.sk-toggleable__control:checked~label.sk-toggleable__label {background-color: #d4ebff;}#sk-container-id-10 div.sk-label input.sk-toggleable__control:checked~label.sk-toggleable__label {background-color: #d4ebff;}#sk-container-id-10 input.sk-hidden--visually {border: 0;clip: rect(1px 1px 1px 1px);clip: rect(1px, 1px, 1px, 1px);height: 1px;margin: -1px;overflow: hidden;padding: 0;position: absolute;width: 1px;}#sk-container-id-10 div.sk-estimator {font-family: monospace;background-color: #f0f8ff;border: 1px dotted black;border-radius: 0.25em;box-sizing: border-box;margin-bottom: 0.5em;}#sk-container-id-10 div.sk-estimator:hover {background-color: #d4ebff;}#sk-container-id-10 div.sk-parallel-item::after {content: \"\";width: 100%;border-bottom: 1px solid gray;flex-grow: 1;}#sk-container-id-10 div.sk-label:hover label.sk-toggleable__label {background-color: #d4ebff;}#sk-container-id-10 div.sk-serial::before {content: \"\";position: absolute;border-left: 1px solid gray;box-sizing: border-box;top: 0;bottom: 0;left: 50%;z-index: 0;}#sk-container-id-10 div.sk-serial {display: flex;flex-direction: column;align-items: center;background-color: white;padding-right: 0.2em;padding-left: 0.2em;position: relative;}#sk-container-id-10 div.sk-item {position: relative;z-index: 1;}#sk-container-id-10 div.sk-parallel {display: flex;align-items: stretch;justify-content: center;background-color: white;position: relative;}#sk-container-id-10 div.sk-item::before, #sk-container-id-10 div.sk-parallel-item::before {content: \"\";position: absolute;border-left: 1px solid gray;box-sizing: border-box;top: 0;bottom: 0;left: 50%;z-index: -1;}#sk-container-id-10 div.sk-parallel-item {display: flex;flex-direction: column;z-index: 1;position: relative;background-color: white;}#sk-container-id-10 div.sk-parallel-item:first-child::after {align-self: flex-end;width: 50%;}#sk-container-id-10 div.sk-parallel-item:last-child::after {align-self: flex-start;width: 50%;}#sk-container-id-10 div.sk-parallel-item:only-child::after {width: 0;}#sk-container-id-10 div.sk-dashed-wrapped {border: 1px dashed gray;margin: 0 0.4em 0.5em 0.4em;box-sizing: border-box;padding-bottom: 0.4em;background-color: white;}#sk-container-id-10 div.sk-label label {font-family: monospace;font-weight: bold;display: inline-block;line-height: 1.2em;}#sk-container-id-10 div.sk-label-container {text-align: center;}#sk-container-id-10 div.sk-container {/* jupyter's `normalize.less` sets `[hidden] { display: none; }` but bootstrap.min.css set `[hidden] { display: none !important; }` so we also need the `!important` here to be able to override the default hidden behavior on the sphinx rendered scikit-learn.org. See: https://github.com/scikit-learn/scikit-learn/issues/21755 */display: inline-block !important;position: relative;}#sk-container-id-10 div.sk-text-repr-fallback {display: none;}</style><div id=\"sk-container-id-10\" class=\"sk-top-container\"><div class=\"sk-text-repr-fallback\"><pre>DecisionTreeClassifier(max_depth=2, min_samples_leaf=5, min_samples_split=5)</pre><b>In a Jupyter environment, please rerun this cell to show the HTML representation or trust the notebook. <br />On GitHub, the HTML representation is unable to render, please try loading this page with nbviewer.org.</b></div><div class=\"sk-container\" hidden><div class=\"sk-item\"><div class=\"sk-estimator sk-toggleable\"><input class=\"sk-toggleable__control sk-hidden--visually\" id=\"sk-estimator-id-28\" type=\"checkbox\" checked><label for=\"sk-estimator-id-28\" class=\"sk-toggleable__label sk-toggleable__label-arrow\">DecisionTreeClassifier</label><div class=\"sk-toggleable__content\"><pre>DecisionTreeClassifier(max_depth=2, min_samples_leaf=5, min_samples_split=5)</pre></div></div></div></div></div>"
      ],
      "text/plain": [
       "DecisionTreeClassifier(max_depth=2, min_samples_leaf=5, min_samples_split=5)"
      ]
     },
     "execution_count": 105,
     "metadata": {},
     "output_type": "execute_result"
    }
   ],
   "source": [
    "best_grid1 = grid_search1.best_estimator_\n",
    "best_grid1"
   ]
  },
  {
   "cell_type": "code",
   "execution_count": 106,
   "id": "258e1c1c",
   "metadata": {},
   "outputs": [],
   "source": [
    "ytrain_predict1 = best_grid1.predict(X_train)\n",
    "ytest_predict1 = best_grid1.predict(X_test)"
   ]
  },
  {
   "cell_type": "code",
   "execution_count": 107,
   "id": "39e1b786",
   "metadata": {},
   "outputs": [],
   "source": [
    "train_char_label = ['no', 'yes']\n",
    "tree_regularized = open('tree_regularized.dot','w')\n",
    "dot_data = tree.export_graphviz(best_grid1, out_file= tree_regularized , feature_names = list(X_train), class_names = list(train_char_label))\n",
    "\n",
    "tree_regularized.close()\n",
    "dot_data"
   ]
  },
  {
   "cell_type": "markdown",
   "id": "ad3cef16",
   "metadata": {},
   "source": [
    "http://www.webgraphviz.com"
   ]
  },
  {
   "cell_type": "markdown",
   "id": "4a683d3e",
   "metadata": {},
   "source": [
    "## Random Forest Classifier"
   ]
  },
  {
   "cell_type": "code",
   "execution_count": 147,
   "id": "2ac35706",
   "metadata": {},
   "outputs": [],
   "source": [
    "param_grid = {\n",
    "    'max_depth': [8,15,20],\n",
    "    'max_features': [5, 10],\n",
    "    'min_samples_leaf': [5,10],\n",
    "    'min_samples_split': [50,60,70],\n",
    "    'n_estimators': [95,100,150]\n",
    "}\n",
    "\n",
    "rfcl = RandomForestClassifier()\n",
    "\n",
    "grid_search2 = GridSearchCV(estimator = rfcl, param_grid = param_grid, cv = 3)"
   ]
  },
  {
   "cell_type": "code",
   "execution_count": 148,
   "id": "e8301ecb",
   "metadata": {},
   "outputs": [
    {
     "data": {
      "text/html": [
       "<style>#sk-container-id-24 {color: black;background-color: white;}#sk-container-id-24 pre{padding: 0;}#sk-container-id-24 div.sk-toggleable {background-color: white;}#sk-container-id-24 label.sk-toggleable__label {cursor: pointer;display: block;width: 100%;margin-bottom: 0;padding: 0.3em;box-sizing: border-box;text-align: center;}#sk-container-id-24 label.sk-toggleable__label-arrow:before {content: \"▸\";float: left;margin-right: 0.25em;color: #696969;}#sk-container-id-24 label.sk-toggleable__label-arrow:hover:before {color: black;}#sk-container-id-24 div.sk-estimator:hover label.sk-toggleable__label-arrow:before {color: black;}#sk-container-id-24 div.sk-toggleable__content {max-height: 0;max-width: 0;overflow: hidden;text-align: left;background-color: #f0f8ff;}#sk-container-id-24 div.sk-toggleable__content pre {margin: 0.2em;color: black;border-radius: 0.25em;background-color: #f0f8ff;}#sk-container-id-24 input.sk-toggleable__control:checked~div.sk-toggleable__content {max-height: 200px;max-width: 100%;overflow: auto;}#sk-container-id-24 input.sk-toggleable__control:checked~label.sk-toggleable__label-arrow:before {content: \"▾\";}#sk-container-id-24 div.sk-estimator input.sk-toggleable__control:checked~label.sk-toggleable__label {background-color: #d4ebff;}#sk-container-id-24 div.sk-label input.sk-toggleable__control:checked~label.sk-toggleable__label {background-color: #d4ebff;}#sk-container-id-24 input.sk-hidden--visually {border: 0;clip: rect(1px 1px 1px 1px);clip: rect(1px, 1px, 1px, 1px);height: 1px;margin: -1px;overflow: hidden;padding: 0;position: absolute;width: 1px;}#sk-container-id-24 div.sk-estimator {font-family: monospace;background-color: #f0f8ff;border: 1px dotted black;border-radius: 0.25em;box-sizing: border-box;margin-bottom: 0.5em;}#sk-container-id-24 div.sk-estimator:hover {background-color: #d4ebff;}#sk-container-id-24 div.sk-parallel-item::after {content: \"\";width: 100%;border-bottom: 1px solid gray;flex-grow: 1;}#sk-container-id-24 div.sk-label:hover label.sk-toggleable__label {background-color: #d4ebff;}#sk-container-id-24 div.sk-serial::before {content: \"\";position: absolute;border-left: 1px solid gray;box-sizing: border-box;top: 0;bottom: 0;left: 50%;z-index: 0;}#sk-container-id-24 div.sk-serial {display: flex;flex-direction: column;align-items: center;background-color: white;padding-right: 0.2em;padding-left: 0.2em;position: relative;}#sk-container-id-24 div.sk-item {position: relative;z-index: 1;}#sk-container-id-24 div.sk-parallel {display: flex;align-items: stretch;justify-content: center;background-color: white;position: relative;}#sk-container-id-24 div.sk-item::before, #sk-container-id-24 div.sk-parallel-item::before {content: \"\";position: absolute;border-left: 1px solid gray;box-sizing: border-box;top: 0;bottom: 0;left: 50%;z-index: -1;}#sk-container-id-24 div.sk-parallel-item {display: flex;flex-direction: column;z-index: 1;position: relative;background-color: white;}#sk-container-id-24 div.sk-parallel-item:first-child::after {align-self: flex-end;width: 50%;}#sk-container-id-24 div.sk-parallel-item:last-child::after {align-self: flex-start;width: 50%;}#sk-container-id-24 div.sk-parallel-item:only-child::after {width: 0;}#sk-container-id-24 div.sk-dashed-wrapped {border: 1px dashed gray;margin: 0 0.4em 0.5em 0.4em;box-sizing: border-box;padding-bottom: 0.4em;background-color: white;}#sk-container-id-24 div.sk-label label {font-family: monospace;font-weight: bold;display: inline-block;line-height: 1.2em;}#sk-container-id-24 div.sk-label-container {text-align: center;}#sk-container-id-24 div.sk-container {/* jupyter's `normalize.less` sets `[hidden] { display: none; }` but bootstrap.min.css set `[hidden] { display: none !important; }` so we also need the `!important` here to be able to override the default hidden behavior on the sphinx rendered scikit-learn.org. See: https://github.com/scikit-learn/scikit-learn/issues/21755 */display: inline-block !important;position: relative;}#sk-container-id-24 div.sk-text-repr-fallback {display: none;}</style><div id=\"sk-container-id-24\" class=\"sk-top-container\"><div class=\"sk-text-repr-fallback\"><pre>GridSearchCV(cv=3, estimator=RandomForestClassifier(),\n",
       "             param_grid={&#x27;max_depth&#x27;: [8, 15, 20], &#x27;max_features&#x27;: [5, 10],\n",
       "                         &#x27;min_samples_leaf&#x27;: [5, 10],\n",
       "                         &#x27;min_samples_split&#x27;: [50, 60, 70],\n",
       "                         &#x27;n_estimators&#x27;: [95, 100, 150]})</pre><b>In a Jupyter environment, please rerun this cell to show the HTML representation or trust the notebook. <br />On GitHub, the HTML representation is unable to render, please try loading this page with nbviewer.org.</b></div><div class=\"sk-container\" hidden><div class=\"sk-item sk-dashed-wrapped\"><div class=\"sk-label-container\"><div class=\"sk-label sk-toggleable\"><input class=\"sk-toggleable__control sk-hidden--visually\" id=\"sk-estimator-id-68\" type=\"checkbox\" ><label for=\"sk-estimator-id-68\" class=\"sk-toggleable__label sk-toggleable__label-arrow\">GridSearchCV</label><div class=\"sk-toggleable__content\"><pre>GridSearchCV(cv=3, estimator=RandomForestClassifier(),\n",
       "             param_grid={&#x27;max_depth&#x27;: [8, 15, 20], &#x27;max_features&#x27;: [5, 10],\n",
       "                         &#x27;min_samples_leaf&#x27;: [5, 10],\n",
       "                         &#x27;min_samples_split&#x27;: [50, 60, 70],\n",
       "                         &#x27;n_estimators&#x27;: [95, 100, 150]})</pre></div></div></div><div class=\"sk-parallel\"><div class=\"sk-parallel-item\"><div class=\"sk-item\"><div class=\"sk-label-container\"><div class=\"sk-label sk-toggleable\"><input class=\"sk-toggleable__control sk-hidden--visually\" id=\"sk-estimator-id-69\" type=\"checkbox\" ><label for=\"sk-estimator-id-69\" class=\"sk-toggleable__label sk-toggleable__label-arrow\">estimator: RandomForestClassifier</label><div class=\"sk-toggleable__content\"><pre>RandomForestClassifier()</pre></div></div></div><div class=\"sk-serial\"><div class=\"sk-item\"><div class=\"sk-estimator sk-toggleable\"><input class=\"sk-toggleable__control sk-hidden--visually\" id=\"sk-estimator-id-70\" type=\"checkbox\" ><label for=\"sk-estimator-id-70\" class=\"sk-toggleable__label sk-toggleable__label-arrow\">RandomForestClassifier</label><div class=\"sk-toggleable__content\"><pre>RandomForestClassifier()</pre></div></div></div></div></div></div></div></div></div></div>"
      ],
      "text/plain": [
       "GridSearchCV(cv=3, estimator=RandomForestClassifier(),\n",
       "             param_grid={'max_depth': [8, 15, 20], 'max_features': [5, 10],\n",
       "                         'min_samples_leaf': [5, 10],\n",
       "                         'min_samples_split': [50, 60, 70],\n",
       "                         'n_estimators': [95, 100, 150]})"
      ]
     },
     "execution_count": 148,
     "metadata": {},
     "output_type": "execute_result"
    }
   ],
   "source": [
    "grid_search2.fit(X_train, train_labels)"
   ]
  },
  {
   "cell_type": "code",
   "execution_count": 149,
   "id": "2f02f2b6",
   "metadata": {},
   "outputs": [
    {
     "data": {
      "text/plain": [
       "{'max_depth': 8,\n",
       " 'max_features': 5,\n",
       " 'min_samples_leaf': 10,\n",
       " 'min_samples_split': 60,\n",
       " 'n_estimators': 95}"
      ]
     },
     "execution_count": 149,
     "metadata": {},
     "output_type": "execute_result"
    }
   ],
   "source": [
    "grid_search2.best_params_"
   ]
  },
  {
   "cell_type": "code",
   "execution_count": 150,
   "id": "11ecf19a",
   "metadata": {},
   "outputs": [],
   "source": [
    "best_grid2 = grid_search2.best_estimator_"
   ]
  },
  {
   "cell_type": "code",
   "execution_count": 151,
   "id": "4acb4bf8",
   "metadata": {},
   "outputs": [],
   "source": [
    "ytrain_predict2 = best_grid2.predict(X_train)\n",
    "ytest_predict2 = best_grid2.predict(X_test)"
   ]
  },
  {
   "cell_type": "markdown",
   "id": "6da4fab2",
   "metadata": {},
   "source": [
    "## MLP Classifier (Artificial Neural Network)"
   ]
  },
  {
   "cell_type": "code",
   "execution_count": 152,
   "id": "d4c6c8e1",
   "metadata": {},
   "outputs": [],
   "source": [
    "sc = StandardScaler() \n",
    "X_trains = sc.fit_transform(X_train) \n",
    "X_tests = sc.transform (X_test)"
   ]
  },
  {
   "cell_type": "code",
   "execution_count": 156,
   "id": "55fd17a8",
   "metadata": {},
   "outputs": [],
   "source": [
    "param_grid = {\n",
    "    'hidden_layer_sizes': [(100,100,100)],\n",
    "    'activation': ['logistic', 'relu'],\n",
    "    'solver': ['sgd', 'adam'],\n",
    "    'tol': [0.1,0.01,0.001],\n",
    "    'max_iter' : [200,500]\n",
    "}\n",
    "\n",
    "nncl = MLPClassifier()\n",
    "\n",
    "grid_search3 = GridSearchCV(estimator = nncl, param_grid = param_grid, cv = 3)"
   ]
  },
  {
   "cell_type": "code",
   "execution_count": 157,
   "id": "01cbece8",
   "metadata": {},
   "outputs": [
    {
     "data": {
      "text/html": [
       "<style>#sk-container-id-26 {color: black;background-color: white;}#sk-container-id-26 pre{padding: 0;}#sk-container-id-26 div.sk-toggleable {background-color: white;}#sk-container-id-26 label.sk-toggleable__label {cursor: pointer;display: block;width: 100%;margin-bottom: 0;padding: 0.3em;box-sizing: border-box;text-align: center;}#sk-container-id-26 label.sk-toggleable__label-arrow:before {content: \"▸\";float: left;margin-right: 0.25em;color: #696969;}#sk-container-id-26 label.sk-toggleable__label-arrow:hover:before {color: black;}#sk-container-id-26 div.sk-estimator:hover label.sk-toggleable__label-arrow:before {color: black;}#sk-container-id-26 div.sk-toggleable__content {max-height: 0;max-width: 0;overflow: hidden;text-align: left;background-color: #f0f8ff;}#sk-container-id-26 div.sk-toggleable__content pre {margin: 0.2em;color: black;border-radius: 0.25em;background-color: #f0f8ff;}#sk-container-id-26 input.sk-toggleable__control:checked~div.sk-toggleable__content {max-height: 200px;max-width: 100%;overflow: auto;}#sk-container-id-26 input.sk-toggleable__control:checked~label.sk-toggleable__label-arrow:before {content: \"▾\";}#sk-container-id-26 div.sk-estimator input.sk-toggleable__control:checked~label.sk-toggleable__label {background-color: #d4ebff;}#sk-container-id-26 div.sk-label input.sk-toggleable__control:checked~label.sk-toggleable__label {background-color: #d4ebff;}#sk-container-id-26 input.sk-hidden--visually {border: 0;clip: rect(1px 1px 1px 1px);clip: rect(1px, 1px, 1px, 1px);height: 1px;margin: -1px;overflow: hidden;padding: 0;position: absolute;width: 1px;}#sk-container-id-26 div.sk-estimator {font-family: monospace;background-color: #f0f8ff;border: 1px dotted black;border-radius: 0.25em;box-sizing: border-box;margin-bottom: 0.5em;}#sk-container-id-26 div.sk-estimator:hover {background-color: #d4ebff;}#sk-container-id-26 div.sk-parallel-item::after {content: \"\";width: 100%;border-bottom: 1px solid gray;flex-grow: 1;}#sk-container-id-26 div.sk-label:hover label.sk-toggleable__label {background-color: #d4ebff;}#sk-container-id-26 div.sk-serial::before {content: \"\";position: absolute;border-left: 1px solid gray;box-sizing: border-box;top: 0;bottom: 0;left: 50%;z-index: 0;}#sk-container-id-26 div.sk-serial {display: flex;flex-direction: column;align-items: center;background-color: white;padding-right: 0.2em;padding-left: 0.2em;position: relative;}#sk-container-id-26 div.sk-item {position: relative;z-index: 1;}#sk-container-id-26 div.sk-parallel {display: flex;align-items: stretch;justify-content: center;background-color: white;position: relative;}#sk-container-id-26 div.sk-item::before, #sk-container-id-26 div.sk-parallel-item::before {content: \"\";position: absolute;border-left: 1px solid gray;box-sizing: border-box;top: 0;bottom: 0;left: 50%;z-index: -1;}#sk-container-id-26 div.sk-parallel-item {display: flex;flex-direction: column;z-index: 1;position: relative;background-color: white;}#sk-container-id-26 div.sk-parallel-item:first-child::after {align-self: flex-end;width: 50%;}#sk-container-id-26 div.sk-parallel-item:last-child::after {align-self: flex-start;width: 50%;}#sk-container-id-26 div.sk-parallel-item:only-child::after {width: 0;}#sk-container-id-26 div.sk-dashed-wrapped {border: 1px dashed gray;margin: 0 0.4em 0.5em 0.4em;box-sizing: border-box;padding-bottom: 0.4em;background-color: white;}#sk-container-id-26 div.sk-label label {font-family: monospace;font-weight: bold;display: inline-block;line-height: 1.2em;}#sk-container-id-26 div.sk-label-container {text-align: center;}#sk-container-id-26 div.sk-container {/* jupyter's `normalize.less` sets `[hidden] { display: none; }` but bootstrap.min.css set `[hidden] { display: none !important; }` so we also need the `!important` here to be able to override the default hidden behavior on the sphinx rendered scikit-learn.org. See: https://github.com/scikit-learn/scikit-learn/issues/21755 */display: inline-block !important;position: relative;}#sk-container-id-26 div.sk-text-repr-fallback {display: none;}</style><div id=\"sk-container-id-26\" class=\"sk-top-container\"><div class=\"sk-text-repr-fallback\"><pre>GridSearchCV(cv=3, estimator=MLPClassifier(),\n",
       "             param_grid={&#x27;activation&#x27;: [&#x27;logistic&#x27;, &#x27;relu&#x27;],\n",
       "                         &#x27;hidden_layer_sizes&#x27;: [(100, 100, 100)],\n",
       "                         &#x27;max_iter&#x27;: [200, 500], &#x27;solver&#x27;: [&#x27;sgd&#x27;, &#x27;adam&#x27;],\n",
       "                         &#x27;tol&#x27;: [0.1, 0.01, 0.001]})</pre><b>In a Jupyter environment, please rerun this cell to show the HTML representation or trust the notebook. <br />On GitHub, the HTML representation is unable to render, please try loading this page with nbviewer.org.</b></div><div class=\"sk-container\" hidden><div class=\"sk-item sk-dashed-wrapped\"><div class=\"sk-label-container\"><div class=\"sk-label sk-toggleable\"><input class=\"sk-toggleable__control sk-hidden--visually\" id=\"sk-estimator-id-74\" type=\"checkbox\" ><label for=\"sk-estimator-id-74\" class=\"sk-toggleable__label sk-toggleable__label-arrow\">GridSearchCV</label><div class=\"sk-toggleable__content\"><pre>GridSearchCV(cv=3, estimator=MLPClassifier(),\n",
       "             param_grid={&#x27;activation&#x27;: [&#x27;logistic&#x27;, &#x27;relu&#x27;],\n",
       "                         &#x27;hidden_layer_sizes&#x27;: [(100, 100, 100)],\n",
       "                         &#x27;max_iter&#x27;: [200, 500], &#x27;solver&#x27;: [&#x27;sgd&#x27;, &#x27;adam&#x27;],\n",
       "                         &#x27;tol&#x27;: [0.1, 0.01, 0.001]})</pre></div></div></div><div class=\"sk-parallel\"><div class=\"sk-parallel-item\"><div class=\"sk-item\"><div class=\"sk-label-container\"><div class=\"sk-label sk-toggleable\"><input class=\"sk-toggleable__control sk-hidden--visually\" id=\"sk-estimator-id-75\" type=\"checkbox\" ><label for=\"sk-estimator-id-75\" class=\"sk-toggleable__label sk-toggleable__label-arrow\">estimator: MLPClassifier</label><div class=\"sk-toggleable__content\"><pre>MLPClassifier()</pre></div></div></div><div class=\"sk-serial\"><div class=\"sk-item\"><div class=\"sk-estimator sk-toggleable\"><input class=\"sk-toggleable__control sk-hidden--visually\" id=\"sk-estimator-id-76\" type=\"checkbox\" ><label for=\"sk-estimator-id-76\" class=\"sk-toggleable__label sk-toggleable__label-arrow\">MLPClassifier</label><div class=\"sk-toggleable__content\"><pre>MLPClassifier()</pre></div></div></div></div></div></div></div></div></div></div>"
      ],
      "text/plain": [
       "GridSearchCV(cv=3, estimator=MLPClassifier(),\n",
       "             param_grid={'activation': ['logistic', 'relu'],\n",
       "                         'hidden_layer_sizes': [(100, 100, 100)],\n",
       "                         'max_iter': [200, 500], 'solver': ['sgd', 'adam'],\n",
       "                         'tol': [0.1, 0.01, 0.001]})"
      ]
     },
     "execution_count": 157,
     "metadata": {},
     "output_type": "execute_result"
    }
   ],
   "source": [
    "grid_search3.fit(X_trains, train_labels)"
   ]
  },
  {
   "cell_type": "code",
   "execution_count": 158,
   "id": "9266d40c",
   "metadata": {},
   "outputs": [
    {
     "data": {
      "text/plain": [
       "{'activation': 'relu',\n",
       " 'hidden_layer_sizes': (100, 100, 100),\n",
       " 'max_iter': 500,\n",
       " 'solver': 'adam',\n",
       " 'tol': 0.01}"
      ]
     },
     "execution_count": 158,
     "metadata": {},
     "output_type": "execute_result"
    }
   ],
   "source": [
    "grid_search3.best_params_"
   ]
  },
  {
   "cell_type": "code",
   "execution_count": 159,
   "id": "b9f7af33",
   "metadata": {},
   "outputs": [],
   "source": [
    "best_grid3 = grid_search3.best_estimator_"
   ]
  },
  {
   "cell_type": "code",
   "execution_count": 160,
   "id": "6f5418c2",
   "metadata": {},
   "outputs": [],
   "source": [
    "ytrain_predict3 = best_grid3.predict(X_trains)\n",
    "ytest_predict3 = best_grid3.predict(X_tests)"
   ]
  },
  {
   "cell_type": "markdown",
   "id": "595f831c",
   "metadata": {},
   "source": [
    "## 2.3 Performance Metrics: Check the performance of Predictions on Train and Test sets using Accuracy, Confusion Matrix, Plot ROC curve, and get ROC_AUC score for each model.\n"
   ]
  },
  {
   "cell_type": "markdown",
   "id": "79912fc8",
   "metadata": {},
   "source": [
    "## Decision Tree\n",
    "### Classification Matrix"
   ]
  },
  {
   "cell_type": "code",
   "execution_count": 161,
   "id": "5fc39082",
   "metadata": {},
   "outputs": [
    {
     "name": "stdout",
     "output_type": "stream",
     "text": [
      "              precision    recall  f1-score   support\n",
      "\n",
      "           0       0.87      0.24      0.38       216\n",
      "           1       0.81      0.99      0.89       690\n",
      "\n",
      "    accuracy                           0.81       906\n",
      "   macro avg       0.84      0.61      0.63       906\n",
      "weighted avg       0.82      0.81      0.77       906\n",
      "\n"
     ]
    }
   ],
   "source": [
    "print(classification_report(train_labels,ytrain_predict1))"
   ]
  },
  {
   "cell_type": "code",
   "execution_count": 162,
   "id": "c61b54ff",
   "metadata": {},
   "outputs": [
    {
     "name": "stdout",
     "output_type": "stream",
     "text": [
      "              precision    recall  f1-score   support\n",
      "\n",
      "           0       0.95      0.17      0.29       105\n",
      "           1       0.76      1.00      0.87       284\n",
      "\n",
      "    accuracy                           0.77       389\n",
      "   macro avg       0.86      0.58      0.58       389\n",
      "weighted avg       0.81      0.77      0.71       389\n",
      "\n"
     ]
    }
   ],
   "source": [
    "print(classification_report(test_labels,ytest_predict1))"
   ]
  },
  {
   "cell_type": "markdown",
   "id": "84e99944",
   "metadata": {},
   "source": [
    "### Confusion Matrix"
   ]
  },
  {
   "cell_type": "code",
   "execution_count": 163,
   "id": "35db1176",
   "metadata": {},
   "outputs": [
    {
     "data": {
      "text/plain": [
       "array([[ 52, 164],\n",
       "       [  8, 682]], dtype=int64)"
      ]
     },
     "execution_count": 163,
     "metadata": {},
     "output_type": "execute_result"
    }
   ],
   "source": [
    "confusion_matrix(train_labels,ytrain_predict1)"
   ]
  },
  {
   "cell_type": "code",
   "execution_count": 164,
   "id": "72096525",
   "metadata": {},
   "outputs": [
    {
     "data": {
      "text/plain": [
       "array([[ 18,  87],\n",
       "       [  1, 283]], dtype=int64)"
      ]
     },
     "execution_count": 164,
     "metadata": {},
     "output_type": "execute_result"
    }
   ],
   "source": [
    "confusion_matrix(test_labels, ytest_predict1)"
   ]
  },
  {
   "cell_type": "markdown",
   "id": "9506976b",
   "metadata": {},
   "source": [
    "### Train & Test Label Score (Accuracy)"
   ]
  },
  {
   "cell_type": "code",
   "execution_count": 165,
   "id": "55ebf7f0",
   "metadata": {},
   "outputs": [
    {
     "data": {
      "text/plain": [
       "0.8101545253863135"
      ]
     },
     "execution_count": 165,
     "metadata": {},
     "output_type": "execute_result"
    }
   ],
   "source": [
    "cart_train_acc=best_grid1.score(X_train,train_labels)\n",
    "cart_train_acc"
   ]
  },
  {
   "cell_type": "code",
   "execution_count": 166,
   "id": "e847d891",
   "metadata": {},
   "outputs": [
    {
     "data": {
      "text/plain": [
       "0.7737789203084833"
      ]
     },
     "execution_count": 166,
     "metadata": {},
     "output_type": "execute_result"
    }
   ],
   "source": [
    "cart_test_acc=best_grid1.score(X_test,test_labels)\n",
    "cart_test_acc"
   ]
  },
  {
   "cell_type": "markdown",
   "id": "7c152ec9",
   "metadata": {},
   "source": [
    "### ROC curve & ROC_AUC score "
   ]
  },
  {
   "cell_type": "code",
   "execution_count": 167,
   "id": "18767a06",
   "metadata": {},
   "outputs": [
    {
     "name": "stdout",
     "output_type": "stream",
     "text": [
      "AUC: 0.689\n"
     ]
    },
    {
     "data": {
      "text/plain": [
       "[<matplotlib.lines.Line2D at 0x2e3436e6400>]"
      ]
     },
     "execution_count": 167,
     "metadata": {},
     "output_type": "execute_result"
    },
    {
     "data": {
      "image/png": "[encoded data removed]",
      "text/plain": [
       "<Figure size 432x288 with 1 Axes>"
      ]
     },
     "metadata": {
      "needs_background": "light"
     },
     "output_type": "display_data"
    }
   ],
   "source": [
    "# predict probabilities\n",
    "probs = best_grid1.predict_proba(X_train)\n",
    "# keep probabilities for the positive outcome only\n",
    "probs = probs[:, 1]\n",
    "# calculate AUC\n",
    "cart_train_auc = roc_auc_score(train_labels, probs)\n",
    "print('AUC: %.3f' % cart_train_auc)\n",
    "# calculate roc curve\n",
    "cart_train_fpr, cart_train_tpr, cart_train_thresholds = roc_curve(train_labels, probs)\n",
    "plt.plot([0, 1], [0, 1], linestyle='--')\n",
    "# plot the roc curve for the model\n",
    "plt.plot(cart_train_fpr, cart_train_tpr)"
   ]
  },
  {
   "cell_type": "code",
   "execution_count": 168,
   "id": "42e70e2d",
   "metadata": {},
   "outputs": [
    {
     "name": "stdout",
     "output_type": "stream",
     "text": [
      "AUC: 0.619\n"
     ]
    },
    {
     "data": {
      "text/plain": [
       "[<matplotlib.lines.Line2D at 0x2e34373e820>]"
      ]
     },
     "execution_count": 168,
     "metadata": {},
     "output_type": "execute_result"
    },
    {
     "data": {
      "image/png": "[encoded data removed]",
      "text/plain": [
       "<Figure size 432x288 with 1 Axes>"
      ]
     },
     "metadata": {
      "needs_background": "light"
     },
     "output_type": "display_data"
    }
   ],
   "source": [
    "# predict probabilities\n",
    "probs = best_grid1.predict_proba(X_test)\n",
    "# keep probabilities for the positive outcome only\n",
    "probs = probs[:, 1]\n",
    "# calculate AUC\n",
    "cart_test_auc = roc_auc_score(test_labels, probs)\n",
    "print('AUC: %.3f' % cart_test_auc)\n",
    "# calculate roc curve\n",
    "cart_test_fpr, cart_test_tpr, cart_testthresholds = roc_curve(test_labels, probs)\n",
    "plt.plot([0, 1], [0, 1], linestyle='--')\n",
    "# plot the roc curve for the model\n",
    "plt.plot(cart_test_fpr, cart_test_tpr)"
   ]
  },
  {
   "cell_type": "code",
   "execution_count": 169,
   "id": "9278a16b",
   "metadata": {},
   "outputs": [
    {
     "name": "stdout",
     "output_type": "stream",
     "text": [
      "cart_train_precision  0.81\n",
      "cart_train_recall  0.99\n",
      "cart_train_f1  0.89\n"
     ]
    }
   ],
   "source": [
    "cart_metrics=classification_report(train_labels, ytrain_predict1,output_dict=True)\n",
    "df=pd.DataFrame(cart_metrics).transpose()\n",
    "cart_train_f1=round(df.loc[\"1\"][2],2)\n",
    "cart_train_recall=round(df.loc[\"1\"][1],2)\n",
    "cart_train_precision=round(df.loc[\"1\"][0],2)\n",
    "print ('cart_train_precision ',cart_train_precision)\n",
    "print ('cart_train_recall ',cart_train_recall)\n",
    "print ('cart_train_f1 ',cart_train_f1)"
   ]
  },
  {
   "cell_type": "code",
   "execution_count": 170,
   "id": "ee27bdcc",
   "metadata": {},
   "outputs": [
    {
     "name": "stdout",
     "output_type": "stream",
     "text": [
      "cart_test_precision  0.76\n",
      "cart_test_recall  1.0\n",
      "cart_test_f1  0.87\n"
     ]
    }
   ],
   "source": [
    "cart_metrics=classification_report(test_labels, ytest_predict1,output_dict=True)\n",
    "df=pd.DataFrame(cart_metrics).transpose()\n",
    "cart_test_precision=round(df.loc[\"1\"][0],2)\n",
    "cart_test_recall=round(df.loc[\"1\"][1],2)\n",
    "cart_test_f1=round(df.loc[\"1\"][2],2)\n",
    "print ('cart_test_precision ',cart_test_precision)\n",
    "print ('cart_test_recall ',cart_test_recall)\n",
    "print ('cart_test_f1 ',cart_test_f1)"
   ]
  },
  {
   "cell_type": "markdown",
   "id": "5de7473a",
   "metadata": {},
   "source": [
    "## Random Forest"
   ]
  },
  {
   "cell_type": "code",
   "execution_count": 171,
   "id": "ee189916",
   "metadata": {},
   "outputs": [
    {
     "name": "stdout",
     "output_type": "stream",
     "text": [
      "              precision    recall  f1-score   support\n",
      "\n",
      "           0       0.93      0.24      0.38       216\n",
      "           1       0.81      0.99      0.89       690\n",
      "\n",
      "    accuracy                           0.81       906\n",
      "   macro avg       0.87      0.62      0.64       906\n",
      "weighted avg       0.84      0.81      0.77       906\n",
      "\n"
     ]
    }
   ],
   "source": [
    "print(classification_report(train_labels,ytrain_predict2))"
   ]
  },
  {
   "cell_type": "code",
   "execution_count": 172,
   "id": "31fc5a45",
   "metadata": {},
   "outputs": [
    {
     "name": "stdout",
     "output_type": "stream",
     "text": [
      "              precision    recall  f1-score   support\n",
      "\n",
      "           0       0.95      0.19      0.32       105\n",
      "           1       0.77      1.00      0.87       284\n",
      "\n",
      "    accuracy                           0.78       389\n",
      "   macro avg       0.86      0.59      0.59       389\n",
      "weighted avg       0.82      0.78      0.72       389\n",
      "\n"
     ]
    }
   ],
   "source": [
    "print(classification_report(test_labels,ytest_predict2))"
   ]
  },
  {
   "cell_type": "markdown",
   "id": "8f42e573",
   "metadata": {},
   "source": [
    "### Confusion Matrix"
   ]
  },
  {
   "cell_type": "code",
   "execution_count": 173,
   "id": "17f020e6",
   "metadata": {},
   "outputs": [
    {
     "data": {
      "text/plain": [
       "array([[ 52, 164],\n",
       "       [  4, 686]], dtype=int64)"
      ]
     },
     "execution_count": 173,
     "metadata": {},
     "output_type": "execute_result"
    }
   ],
   "source": [
    "confusion_matrix(train_labels,ytrain_predict2)"
   ]
  },
  {
   "cell_type": "code",
   "execution_count": 174,
   "id": "1437ac2c",
   "metadata": {},
   "outputs": [
    {
     "data": {
      "text/plain": [
       "array([[ 20,  85],\n",
       "       [  1, 283]], dtype=int64)"
      ]
     },
     "execution_count": 174,
     "metadata": {},
     "output_type": "execute_result"
    }
   ],
   "source": [
    "confusion_matrix(test_labels,ytest_predict2)"
   ]
  },
  {
   "cell_type": "markdown",
   "id": "9f545e72",
   "metadata": {},
   "source": [
    "### Train & Test Label Score (Accuracy)"
   ]
  },
  {
   "cell_type": "code",
   "execution_count": 175,
   "id": "2fef096c",
   "metadata": {},
   "outputs": [
    {
     "data": {
      "text/plain": [
       "0.8145695364238411"
      ]
     },
     "execution_count": 175,
     "metadata": {},
     "output_type": "execute_result"
    }
   ],
   "source": [
    "rf_train_acc=best_grid2.score(X_train,train_labels)\n",
    "rf_train_acc"
   ]
  },
  {
   "cell_type": "code",
   "execution_count": 176,
   "id": "f473a056",
   "metadata": {},
   "outputs": [
    {
     "data": {
      "text/plain": [
       "0.7789203084832905"
      ]
     },
     "execution_count": 176,
     "metadata": {},
     "output_type": "execute_result"
    }
   ],
   "source": [
    "rf_test_acc=best_grid2.score(X_test,test_labels)\n",
    "rf_test_acc"
   ]
  },
  {
   "cell_type": "markdown",
   "id": "1b4375df",
   "metadata": {},
   "source": [
    "### ROC curve & ROC_AUC score"
   ]
  },
  {
   "cell_type": "code",
   "execution_count": 177,
   "id": "9d6d1210",
   "metadata": {},
   "outputs": [
    {
     "name": "stdout",
     "output_type": "stream",
     "text": [
      "Area under Curve is 0.8171967257112186\n"
     ]
    },
    {
     "data": {
      "image/png": "[encoded data removed]",
      "text/plain": [
       "<Figure size 432x288 with 1 Axes>"
      ]
     },
     "metadata": {
      "needs_background": "light"
     },
     "output_type": "display_data"
    }
   ],
   "source": [
    "rf_train_fpr, rf_train_tpr,_=roc_curve(train_labels,best_grid2.predict_proba(X_train)[:,1])\n",
    "plt.plot(rf_train_fpr,rf_train_tpr,color='green')\n",
    "plt.plot([0, 1], [0, 1], linestyle='--')\n",
    "plt.xlabel('False Positive Rate')\n",
    "plt.ylabel('True Positive Rate')\n",
    "plt.title('ROC')\n",
    "rf_train_auc=roc_auc_score(train_labels,best_grid2.predict_proba(X_train)[:,1])\n",
    "print('Area under Curve is', rf_train_auc)"
   ]
  },
  {
   "cell_type": "code",
   "execution_count": 178,
   "id": "c0cbe7d6",
   "metadata": {},
   "outputs": [
    {
     "name": "stdout",
     "output_type": "stream",
     "text": [
      "Area under Curve is 0.72060697518444\n"
     ]
    },
    {
     "data": {
      "image/png": "[encoded data removed]",
      "text/plain": [
       "<Figure size 432x288 with 1 Axes>"
      ]
     },
     "metadata": {
      "needs_background": "light"
     },
     "output_type": "display_data"
    }
   ],
   "source": [
    "rf_test_fpr, rf_test_tpr,_=roc_curve(test_labels,best_grid2.predict_proba(X_test)[:,1])\n",
    "plt.plot(rf_test_fpr,rf_test_tpr,color='green')\n",
    "plt.plot([0, 1], [0, 1], linestyle='--')\n",
    "plt.xlabel('False Positive Rate')\n",
    "plt.ylabel('True Positive Rate')\n",
    "plt.title('ROC')\n",
    "rf_test_auc=roc_auc_score(test_labels,best_grid2.predict_proba(X_test)[:,1])\n",
    "print('Area under Curve is', rf_test_auc)"
   ]
  },
  {
   "cell_type": "code",
   "execution_count": 179,
   "id": "dd2820b5",
   "metadata": {},
   "outputs": [
    {
     "name": "stdout",
     "output_type": "stream",
     "text": [
      "rf_train_precision  0.81\n",
      "rf_train_recall 0.99\n",
      "rf_train_f1  0.89\n"
     ]
    }
   ],
   "source": [
    "cart_metrics=classification_report(train_labels, ytrain_predict2,output_dict=True)\n",
    "df=pd.DataFrame(cart_metrics).transpose()\n",
    "rf_train_f1=round(df.loc[\"1\"][2],2)\n",
    "rf_train_recall=round(df.loc[\"1\"][1],2)\n",
    "rf_train_precision=round(df.loc[\"1\"][0],2)\n",
    "print ('rf_train_precision ',rf_train_precision)\n",
    "print ('rf_train_recall',rf_train_recall)\n",
    "print ('rf_train_f1 ',rf_train_f1)"
   ]
  },
  {
   "cell_type": "code",
   "execution_count": 180,
   "id": "4c3770f8",
   "metadata": {},
   "outputs": [
    {
     "name": "stdout",
     "output_type": "stream",
     "text": [
      "rf_test_precision  0.77\n",
      "rf_test_recall  1.0\n",
      "rf_test_f1  0.87\n"
     ]
    }
   ],
   "source": [
    "rf_metrics=classification_report(test_labels, ytest_predict2,output_dict=True)\n",
    "df=pd.DataFrame(rf_metrics).transpose()\n",
    "rf_test_precision=round(df.loc[\"1\"][0],2)\n",
    "rf_test_recall=round(df.loc[\"1\"][1],2)\n",
    "rf_test_f1=round(df.loc[\"1\"][2],2)\n",
    "print ('rf_test_precision ',rf_test_precision)\n",
    "print ('rf_test_recall ',rf_test_recall)\n",
    "print ('rf_test_f1 ',rf_test_f1)"
   ]
  },
  {
   "cell_type": "markdown",
   "id": "3c025acc",
   "metadata": {},
   "source": [
    "## Neural Network"
   ]
  },
  {
   "cell_type": "code",
   "execution_count": 181,
   "id": "003ac197",
   "metadata": {},
   "outputs": [
    {
     "name": "stdout",
     "output_type": "stream",
     "text": [
      "              precision    recall  f1-score   support\n",
      "\n",
      "           0       0.83      0.27      0.41       216\n",
      "           1       0.81      0.98      0.89       690\n",
      "\n",
      "    accuracy                           0.81       906\n",
      "   macro avg       0.82      0.63      0.65       906\n",
      "weighted avg       0.82      0.81      0.77       906\n",
      "\n"
     ]
    }
   ],
   "source": [
    "print(classification_report(train_labels,ytrain_predict3))"
   ]
  },
  {
   "cell_type": "code",
   "execution_count": 182,
   "id": "aef1fb30",
   "metadata": {},
   "outputs": [
    {
     "name": "stdout",
     "output_type": "stream",
     "text": [
      "              precision    recall  f1-score   support\n",
      "\n",
      "           0       0.70      0.18      0.29       105\n",
      "           1       0.76      0.97      0.85       284\n",
      "\n",
      "    accuracy                           0.76       389\n",
      "   macro avg       0.73      0.58      0.57       389\n",
      "weighted avg       0.75      0.76      0.70       389\n",
      "\n"
     ]
    }
   ],
   "source": [
    "print(classification_report(test_labels,ytest_predict3))"
   ]
  },
  {
   "cell_type": "markdown",
   "id": "76bf42b4",
   "metadata": {},
   "source": [
    "### Confusion Matrix"
   ]
  },
  {
   "cell_type": "code",
   "execution_count": 183,
   "id": "106f088f",
   "metadata": {},
   "outputs": [
    {
     "data": {
      "text/plain": [
       "array([[ 58, 158],\n",
       "       [ 12, 678]], dtype=int64)"
      ]
     },
     "execution_count": 183,
     "metadata": {},
     "output_type": "execute_result"
    }
   ],
   "source": [
    "confusion_matrix(train_labels,ytrain_predict3)"
   ]
  },
  {
   "cell_type": "code",
   "execution_count": 184,
   "id": "959c691a",
   "metadata": {},
   "outputs": [
    {
     "data": {
      "text/plain": [
       "array([[ 19,  86],\n",
       "       [  8, 276]], dtype=int64)"
      ]
     },
     "execution_count": 184,
     "metadata": {},
     "output_type": "execute_result"
    }
   ],
   "source": [
    "confusion_matrix(test_labels,ytest_predict3)"
   ]
  },
  {
   "cell_type": "markdown",
   "id": "baff9e33",
   "metadata": {},
   "source": [
    "### Train & Test Label Score (Accuracy)"
   ]
  },
  {
   "cell_type": "code",
   "execution_count": 185,
   "id": "93ff936e",
   "metadata": {},
   "outputs": [
    {
     "data": {
      "text/plain": [
       "0.8123620309050773"
      ]
     },
     "execution_count": 185,
     "metadata": {},
     "output_type": "execute_result"
    }
   ],
   "source": [
    "nn_train_acc=best_grid3.score(X_trains,train_labels) \n",
    "nn_train_acc"
   ]
  },
  {
   "cell_type": "code",
   "execution_count": 186,
   "id": "9206d722",
   "metadata": {},
   "outputs": [
    {
     "data": {
      "text/plain": [
       "0.7583547557840618"
      ]
     },
     "execution_count": 186,
     "metadata": {},
     "output_type": "execute_result"
    }
   ],
   "source": [
    "nn_test_acc=best_grid3.score(X_tests,test_labels) \n",
    "nn_test_acc"
   ]
  },
  {
   "cell_type": "markdown",
   "id": "4a5ac1e2",
   "metadata": {},
   "source": [
    "### ROC curve & ROC_AUC score"
   ]
  },
  {
   "cell_type": "code",
   "execution_count": 187,
   "id": "9fa72e08",
   "metadata": {},
   "outputs": [
    {
     "name": "stdout",
     "output_type": "stream",
     "text": [
      "Area under Curve is 0.8173544015029522\n"
     ]
    },
    {
     "data": {
      "image/png": "[encoded data removed]",
      "text/plain": [
       "<Figure size 432x288 with 1 Axes>"
      ]
     },
     "metadata": {
      "needs_background": "light"
     },
     "output_type": "display_data"
    }
   ],
   "source": [
    "nn_train_fpr, nn_train_tpr,_=roc_curve(train_labels,best_grid3.predict_proba(X_trains)[:,1])\n",
    "plt.plot(nn_train_fpr,nn_train_tpr,color='black')\n",
    "plt.plot([0, 1], [0, 1], linestyle='--')\n",
    "plt.xlabel('False Positive Rate')\n",
    "plt.ylabel('True Positive Rate')\n",
    "plt.title('ROC')\n",
    "nn_train_auc=roc_auc_score(train_labels,best_grid3.predict_proba(X_trains)[:,1])\n",
    "print('Area under Curve is', nn_train_auc)"
   ]
  },
  {
   "cell_type": "code",
   "execution_count": 188,
   "id": "d8494298",
   "metadata": {},
   "outputs": [
    {
     "name": "stdout",
     "output_type": "stream",
     "text": [
      "Area under Curve is 0.6914654594232059\n"
     ]
    },
    {
     "data": {
      "image/png": "[encoded data removed]",
      "text/plain": [
       "<Figure size 432x288 with 1 Axes>"
      ]
     },
     "metadata": {
      "needs_background": "light"
     },
     "output_type": "display_data"
    }
   ],
   "source": [
    "nn_test_fpr, nn_test_tpr,_=roc_curve(test_labels,best_grid3.predict_proba(X_tests)[:,1])\n",
    "plt.plot(nn_test_fpr,nn_test_tpr,color='black')\n",
    "plt.plot([0, 1], [0, 1], linestyle='--')\n",
    "plt.xlabel('False Positive Rate')\n",
    "plt.ylabel('True Positive Rate')\n",
    "plt.title('ROC')\n",
    "nn_test_auc=roc_auc_score(test_labels,best_grid3.predict_proba(X_tests)[:,1])\n",
    "print('Area under Curve is', nn_test_auc)"
   ]
  },
  {
   "cell_type": "code",
   "execution_count": 189,
   "id": "7ae7754f",
   "metadata": {},
   "outputs": [
    {
     "name": "stdout",
     "output_type": "stream",
     "text": [
      "nn_train_precision  0.81\n",
      "nn_train_recall  0.98\n",
      "nn_train_f1  0.89\n"
     ]
    }
   ],
   "source": [
    "nn_metrics=classification_report(train_labels, ytrain_predict3,output_dict=True)\n",
    "df=pd.DataFrame(nn_metrics).transpose()\n",
    "nn_train_precision=round(df.loc[\"1\"][0],2)\n",
    "nn_train_recall=round(df.loc[\"1\"][1],2)\n",
    "nn_train_f1=round(df.loc[\"1\"][2],2)\n",
    "print ('nn_train_precision ',nn_train_precision)\n",
    "print ('nn_train_recall ',nn_train_recall)\n",
    "print ('nn_train_f1 ',nn_train_f1)"
   ]
  },
  {
   "cell_type": "code",
   "execution_count": 190,
   "id": "77e5e1ac",
   "metadata": {},
   "outputs": [
    {
     "name": "stdout",
     "output_type": "stream",
     "text": [
      "nn_test_precision  0.76\n",
      "nn_test_recall  0.97\n",
      "nn_test_f1  0.85\n"
     ]
    }
   ],
   "source": [
    "nn_metrics=classification_report(test_labels, ytest_predict3,output_dict=True)\n",
    "df=pd.DataFrame(nn_metrics).transpose()\n",
    "nn_test_precision=round(df.loc[\"1\"][0],2)\n",
    "nn_test_recall=round(df.loc[\"1\"][1],2)\n",
    "nn_test_f1=round(df.loc[\"1\"][2],2)\n",
    "print ('nn_test_precision ',nn_test_precision)\n",
    "print ('nn_test_recall ',nn_test_recall)\n",
    "print ('nn_test_f1 ',nn_test_f1)"
   ]
  },
  {
   "cell_type": "markdown",
   "id": "62d7e9ae",
   "metadata": {},
   "source": [
    "## 2.4 Final Model: Compare all the models and write an inference which model is best/optimized.\n"
   ]
  },
  {
   "cell_type": "code",
   "execution_count": 191,
   "id": "a5d9850c",
   "metadata": {},
   "outputs": [
    {
     "data": {
      "text/html": [
       "<div>\n",
       "<style scoped>\n",
       "    .dataframe tbody tr th:only-of-type {\n",
       "        vertical-align: middle;\n",
       "    }\n",
       "\n",
       "    .dataframe tbody tr th {\n",
       "        vertical-align: top;\n",
       "    }\n",
       "\n",
       "    .dataframe thead th {\n",
       "        text-align: right;\n",
       "    }\n",
       "</style>\n",
       "<table border=\"1\" class=\"dataframe\">\n",
       "  <thead>\n",
       "    <tr style=\"text-align: right;\">\n",
       "      <th></th>\n",
       "      <th>CART Train</th>\n",
       "      <th>CART Test</th>\n",
       "      <th>Random Forest Train</th>\n",
       "      <th>Random Forest Test</th>\n",
       "      <th>Neural Network Train</th>\n",
       "      <th>Neural Network Test</th>\n",
       "    </tr>\n",
       "  </thead>\n",
       "  <tbody>\n",
       "    <tr>\n",
       "      <th>Accuracy</th>\n",
       "      <td>0.81</td>\n",
       "      <td>0.77</td>\n",
       "      <td>0.81</td>\n",
       "      <td>0.78</td>\n",
       "      <td>0.81</td>\n",
       "      <td>0.76</td>\n",
       "    </tr>\n",
       "    <tr>\n",
       "      <th>AUC</th>\n",
       "      <td>0.69</td>\n",
       "      <td>0.62</td>\n",
       "      <td>0.82</td>\n",
       "      <td>0.72</td>\n",
       "      <td>0.82</td>\n",
       "      <td>0.69</td>\n",
       "    </tr>\n",
       "    <tr>\n",
       "      <th>Recall</th>\n",
       "      <td>0.99</td>\n",
       "      <td>1.00</td>\n",
       "      <td>0.99</td>\n",
       "      <td>1.00</td>\n",
       "      <td>0.98</td>\n",
       "      <td>0.97</td>\n",
       "    </tr>\n",
       "    <tr>\n",
       "      <th>Precision</th>\n",
       "      <td>0.81</td>\n",
       "      <td>0.76</td>\n",
       "      <td>0.81</td>\n",
       "      <td>0.77</td>\n",
       "      <td>0.81</td>\n",
       "      <td>0.76</td>\n",
       "    </tr>\n",
       "    <tr>\n",
       "      <th>F1 Score</th>\n",
       "      <td>0.89</td>\n",
       "      <td>0.87</td>\n",
       "      <td>0.89</td>\n",
       "      <td>0.87</td>\n",
       "      <td>0.89</td>\n",
       "      <td>0.85</td>\n",
       "    </tr>\n",
       "  </tbody>\n",
       "</table>\n",
       "</div>"
      ],
      "text/plain": [
       "           CART Train  CART Test  Random Forest Train  Random Forest Test  \\\n",
       "Accuracy         0.81       0.77                 0.81                0.78   \n",
       "AUC              0.69       0.62                 0.82                0.72   \n",
       "Recall           0.99       1.00                 0.99                1.00   \n",
       "Precision        0.81       0.76                 0.81                0.77   \n",
       "F1 Score         0.89       0.87                 0.89                0.87   \n",
       "\n",
       "           Neural Network Train  Neural Network Test  \n",
       "Accuracy                   0.81                 0.76  \n",
       "AUC                        0.82                 0.69  \n",
       "Recall                     0.98                 0.97  \n",
       "Precision                  0.81                 0.76  \n",
       "F1 Score                   0.89                 0.85  "
      ]
     },
     "execution_count": 191,
     "metadata": {},
     "output_type": "execute_result"
    }
   ],
   "source": [
    "index=['Accuracy', 'AUC', 'Recall','Precision','F1 Score']\n",
    "data = pd.DataFrame({'CART Train':[cart_train_acc,cart_train_auc,cart_train_recall,cart_train_precision,cart_train_f1],\n",
    "        'CART Test':[cart_test_acc,cart_test_auc,cart_test_recall,cart_test_precision,cart_test_f1],\n",
    "       'Random Forest Train':[rf_train_acc,rf_train_auc,rf_train_recall,rf_train_precision,rf_train_f1],\n",
    "        'Random Forest Test':[rf_test_acc,rf_test_auc,rf_test_recall,rf_test_precision,rf_test_f1],\n",
    "       'Neural Network Train':[nn_train_acc,nn_train_auc,nn_train_recall,nn_train_precision,nn_train_f1],\n",
    "        'Neural Network Test':[nn_test_acc,nn_test_auc,nn_test_recall,nn_test_precision,nn_test_f1]},index=index)\n",
    "round(data,2)"
   ]
  },
  {
   "cell_type": "code",
   "execution_count": 192,
   "id": "86270fc0",
   "metadata": {},
   "outputs": [
    {
     "data": {
      "image/png": "[encoded data removed]",
      "text/plain": [
       "<Figure size 432x288 with 1 Axes>"
      ]
     },
     "metadata": {
      "needs_background": "light"
     },
     "output_type": "display_data"
    }
   ],
   "source": [
    "plt.plot([0, 1], [0, 1], linestyle='--')\n",
    "plt.plot(cart_train_fpr, cart_train_tpr,color='red',label=\"CART\")\n",
    "plt.plot(rf_train_fpr,rf_train_tpr,color='green',label=\"RF\")\n",
    "plt.plot(nn_train_fpr,nn_train_tpr,color='black',label=\"NN\")\n",
    "plt.xlabel('False Positive Rate')\n",
    "plt.ylabel('True Positive Rate')\n",
    "plt.title('ROC')\n",
    "plt.legend(bbox_to_anchor=(0., 1.02, 1., .102), loc='lower right');"
   ]
  },
  {
   "cell_type": "code",
   "execution_count": 193,
   "id": "a7167702",
   "metadata": {},
   "outputs": [
    {
     "data": {
      "image/png": "[encoded data removed]",
      "text/plain": [
       "<Figure size 432x288 with 1 Axes>"
      ]
     },
     "metadata": {
      "needs_background": "light"
     },
     "output_type": "display_data"
    }
   ],
   "source": [
    "plt.plot([0, 1], [0, 1], linestyle='--')\n",
    "plt.plot(cart_test_fpr, cart_test_tpr,color='red',label=\"CART\")\n",
    "plt.plot(rf_test_fpr,rf_test_tpr,color='green',label=\"RF\")\n",
    "plt.plot(nn_test_fpr,nn_test_tpr,color='black',label=\"NN\")\n",
    "plt.xlabel('False Positive Rate')\n",
    "plt.ylabel('True Positive Rate')\n",
    "plt.title('ROC')\n",
    "plt.legend(bbox_to_anchor=(0., 1.02, 1., .102), loc='lower right');"
   ]
  },
  {
   "cell_type": "markdown",
   "id": "1324bdb5",
   "metadata": {},
   "source": [
    "## 2.5 Inference: Basis on these predictions, what are the insights and recommendations?"
   ]
  },
  {
   "cell_type": "markdown",
   "id": "8adb060d",
   "metadata": {},
   "source": [
    "Out of the 3 models, Random Forest has slightly better performance than the Cart and Neural network model interms of overall accuracy.\n",
    "\n",
    "Overall all the 3 models are reasonaly stable enough to be used for making any future predictions. From Cart and Random Forest Model.Since its a health care domain and a balanced dataset we can consider the recall metric alongside over all accuracy to be important in this case study, as much we want the model to preict positives correcly but it should be accurate about the negatives as well, so that it can help the hospital to have a clear distinction between the patients.\n",
    "\n",
    "High recall, low precision: This means that most of the positive examples are correctly recognized but there are a lot of false positives.\n",
    "\n",
    "Low recall, high precision: This shows that we miss a lot of positive examples but those we predict as positive are indeed positive\n",
    "\n",
    "In, this we need a properly balanced models so that we can keep all the patients on same scale as its a matter of life and death \n",
    "in this we need to have a proper understanding of the data otherwise it will be very harmful for the patients.\n",
    "\n",
    "Here, we can see the overall accuracies of the model so as we know higher the accuracy of the model lesser the false prediction if we are looking for accuracy in our data then we can say that we have got a pretty much decent accuracy from the other two models we can random forest have the highest accuracy among all other models that means its making less false prediction of the other two, our model are also giving recall score near to perfect so we can expect some false negatives as well "
   ]
  }
 ],
 "metadata": {
  "kernelspec": {
   "display_name": "Python 3 (ipykernel)",
   "language": "python",
   "name": "python3"
  },
  "language_info": {
   "codemirror_mode": {
    "name": "ipython",
    "version": 3
   },
   "file_extension": ".py",
   "mimetype": "text/x-python",
   "name": "python",
   "nbconvert_exporter": "python",
   "pygments_lexer": "ipython3",
   "version": "3.9.7"
  }
 },
 "nbformat": 4,
 "nbformat_minor": 5
}
